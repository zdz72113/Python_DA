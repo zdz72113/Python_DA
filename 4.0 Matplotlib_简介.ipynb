{
 "cells": [
  {
   "cell_type": "markdown",
   "metadata": {},
   "source": [
    "## Matplotlib\n",
    "\n",
    "Matplotlib 是一个非常强大的 Python 画图库。可以绘制线图、散点图、等高线图、条形图、柱状图、3D 图形、甚至是图形动画等等。"
   ]
  },
  {
   "cell_type": "markdown",
   "metadata": {},
   "source": [
    "### Agenda\n",
    "\n",
    "- 安装\n",
    "- 简单示例\n",
    "- 组成部分"
   ]
  },
  {
   "cell_type": "markdown",
   "metadata": {},
   "source": [
    "### 安装\n",
    "\n",
    "最简单的方法就是使用 pip 工具\n",
    "\n",
    "```\n",
    "pip install matplotlib\n",
    "```"
   ]
  },
  {
   "cell_type": "markdown",
   "metadata": {},
   "source": [
    "测试是否安装成功："
   ]
  },
  {
   "cell_type": "code",
   "execution_count": 8,
   "metadata": {},
   "outputs": [
    {
     "name": "stdout",
     "output_type": "stream",
     "text": [
      "3.1.3\n"
     ]
    }
   ],
   "source": [
    "import matplotlib\n",
    "\n",
    "print(matplotlib.__version__)"
   ]
  },
  {
   "cell_type": "markdown",
   "metadata": {},
   "source": [
    "### 简单示例\n",
    "\n",
    "一个简单的例子："
   ]
  },
  {
   "cell_type": "code",
   "execution_count": 9,
   "metadata": {
    "scrolled": true
   },
   "outputs": [
    {
     "data": {
      "text/plain": [
       "<matplotlib.collections.PathCollection at 0x21ab2ac25c8>"
      ]
     },
     "execution_count": 9,
     "metadata": {},
     "output_type": "execute_result"
    },
    {
     "data": {
      "image/png": "[encoded data removed]",
      "text/plain": [
       "<Figure size 432x288 with 1 Axes>"
      ]
     },
     "metadata": {
      "needs_background": "light"
     },
     "output_type": "display_data"
    }
   ],
   "source": [
    "import matplotlib.pyplot as plt\n",
    "\n",
    "x = [1, 2, 3, 4, 5]\n",
    "y = [2.3, 3.4, 1.2, 6.6, 7.0]\n",
    "plt.scatter(x, y, color='r', marker='+')"
   ]
  },
  {
   "cell_type": "markdown",
   "metadata": {},
   "source": [
    "### 组成部分\n",
    "- **面板（Figure）**: matplotlib中的所有图像都是位于figure对象中，一个图像只能有一个figure对象。\n",
    "- **子图（Subplot）**: figure对象下创建一个或多个subplot对象(即axes)用于绘制图像。\n",
    "- **X轴（X Axis）和Y轴（Y Axis）**: 坐标系统，包括其标签（Label）、轴线（Spine）、刻度（Tick）以及刻度标签等。\n",
    "- **标题（Title）和图例（Legend）**: 设置标题和图例的文本显示\n",
    "- **数据（Data）和属性** 根据数据可以绘制各种图形，比如普通图（Plot）、散点图（Scatter）和三维图（3D）等，同时可以指定使用的颜色（Color）、样式（Style）以及记号（Marker）等。\n",
    "- **文本（Text）/注释（Annotation）** 使用文本和注释对重要数据进行说明，"
   ]
  },
  {
   "cell_type": "markdown",
   "metadata": {},
   "source": [
    "## 参考\n",
    "- [matplotlib gallery](https://matplotlib.org/gallery.html)\n",
    "- [matplotlib 中文网](hhttps://www.matplotlib.org.cn/)"
   ]
  }
 ],
 "metadata": {
  "kernelspec": {
   "display_name": "Python 3 (ipykernel)",
   "language": "python",
   "name": "python3"
  },
  "language_info": {
   "codemirror_mode": {
    "name": "ipython",
    "version": 3
   },
   "file_extension": ".py",
   "mimetype": "text/x-python",
   "name": "python",
   "nbconvert_exporter": "python",
   "pygments_lexer": "ipython3",
   "version": "3.9.12"
  }
 },
 "nbformat": 4,
 "nbformat_minor": 4
}
