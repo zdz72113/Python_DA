{
 "cells": [
  {
   "cell_type": "markdown",
   "metadata": {},
   "source": [
    "## 数组(ndarray)\n",
    "\n",
    "NumPy 最重要的一个特点是其 N 维数组对象 ndarray\n",
    "\n",
    "1. ndarray 对象是用于存放同类型元素的多维数组。.\n",
    "2. ndarray 中的每个元素在内存中都有相同存储大小的区域。"
   ]
  },
  {
   "cell_type": "markdown",
   "metadata": {},
   "source": [
    "### Agenda\n",
    "\n",
    "- 创建\n",
    "- 基本对象和属性"
   ]
  },
  {
   "cell_type": "markdown",
   "metadata": {},
   "source": [
    "### 创建\n",
    "\n",
    "创建一个 ndarray 只需调用 NumPy 的 array 函数即可\n",
    "\n",
    "```\n",
    "numpy.array(object, dtype = None, copy = True, order = None, subok = False, ndmin = 0)\n",
    "```\n",
    "\n",
    "参数名称 | 描述\n",
    ":----|:----\n",
    "object | 数组或嵌套的数列\n",
    "dtype | 数组元素的数据类型，可选\n",
    "copy | 对象是否需要复制，可选\n",
    "order | 创建数组的样式，C为行方向，F为列方向，A为任意方向（默认）\n",
    "subok | 默认返回一个与基类类型一致的数组\n",
    "ndmin | 指定生成数组的最小维度"
   ]
  },
  {
   "cell_type": "code",
   "execution_count": 1,
   "metadata": {},
   "outputs": [
    {
     "name": "stdout",
     "output_type": "stream",
     "text": [
      "[1 2 3]\n",
      "[[1 2]\n",
      " [3 4]]\n",
      "[1.+0.j 2.+0.j 3.+0.j]\n"
     ]
    }
   ],
   "source": [
    "import numpy as np\n",
    "\n",
    "a = np.array([1, 2, 3])\n",
    "b = np.array([[1, 2], [3, 4]])\n",
    "c = np.array([1, 2, 3], dtype = complex)\n",
    "\n",
    "print(a)\n",
    "print(b)\n",
    "print(c)"
   ]
  },
  {
   "cell_type": "markdown",
   "metadata": {},
   "source": [
    "### 基本对象和属性\n",
    "\n",
    "参数名称 | 描述\n",
    ":----|:----\n",
    "ndarray.ndim | 数组的轴（维度）的个数。在Python世界中，维度的数量被称为rank。\n",
    "ndarray.shape | 数组的维度。这是一个整数的元组，表示每个维度中数组的大小。对于有 n 行和 m 列的矩阵，shape 将是 (n,m)。因此，shape 元组的长度就是rank或维度的个数 ndim。\n",
    "ndarray.size | 组元素的总个数，相当于.shape 中 n*m 的值\n",
    "ndarray.dtype | 一个描述数组中元素类型的对象。可以使用标准的Python类型创建或指定dtype。另外NumPy提供它自己的类型。例如numpy.int32、numpy.int16和numpy.float64。\n",
    "ndarray.itemsize | 数组中每个元素的字节大小。例如，元素为 float64 类型的数组的 itemsize 为8（=64/8），而 complex32 类型的数组的 itemsize 为4（=32/8）。它等于 ndarray.dtype.itemsize 。\n",
    "ndarray.flags | ndarray 对象的内存信息\n",
    "ndarray.real | ndarray元素的实部。\n",
    "ndarray.imag | ndarray 元素的虚部。\n",
    "ndarray.data | 包含实际数组元素的缓冲区，由于一般通过数组的索引获取元素，所以通常不需要使用这个属性。"
   ]
  },
  {
   "cell_type": "code",
   "execution_count": 2,
   "metadata": {},
   "outputs": [
    {
     "name": "stdout",
     "output_type": "stream",
     "text": [
      "1\n",
      "(24,)\n",
      "24\n",
      "--------------------\n",
      "3\n",
      "(2, 4, 3)\n",
      "24\n"
     ]
    }
   ],
   "source": [
    "import numpy as np\n",
    "\n",
    "a = np.arange(24)\n",
    "print(a.ndim)\n",
    "print(a.shape)\n",
    "print(a.size)\n",
    "\n",
    "print ('-'*20)\n",
    "\n",
    "b = a.reshape(2, 4, 3)\n",
    "print(b.ndim)\n",
    "print(b.shape)\n",
    "print(b.size)"
   ]
  },
  {
   "cell_type": "code",
   "execution_count": 3,
   "metadata": {},
   "outputs": [
    {
     "name": "stdout",
     "output_type": "stream",
     "text": [
      "int8\n",
      "1\n",
      "--------------------\n",
      "float64\n",
      "8\n"
     ]
    }
   ],
   "source": [
    "import numpy as np \n",
    "  \n",
    "x = np.array([1,2,3,4,5], dtype = np.int8)\n",
    "print (x.dtype)\n",
    "print (x.itemsize)\n",
    "\n",
    "print ('-'*20)\n",
    "\n",
    "y = np.array([1,2,3,4,5], dtype = np.float64)\n",
    "print (y.dtype)\n",
    "print (y.itemsize)\n"
   ]
  }
 ],
 "metadata": {
  "kernelspec": {
   "display_name": "Python 3",
   "language": "python",
   "name": "python3"
  },
  "language_info": {
   "codemirror_mode": {
    "name": "ipython",
    "version": 3
   },
   "file_extension": ".py",
   "mimetype": "text/x-python",
   "name": "python",
   "nbconvert_exporter": "python",
   "pygments_lexer": "ipython3",
   "version": "3.7.6"
  }
 },
 "nbformat": 4,
 "nbformat_minor": 4
}
