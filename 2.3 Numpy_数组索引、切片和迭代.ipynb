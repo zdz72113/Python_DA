{
 "cells": [
  {
   "cell_type": "markdown",
   "metadata": {},
   "source": [
    "## 数组索引、切片和迭代\n",
    "\n",
    "数组可以进行索引、切片和迭代操作的，就像 列表 和其他Python序列类型一样。"
   ]
  },
  {
   "cell_type": "code",
   "execution_count": 4,
   "metadata": {
    "scrolled": true
   },
   "outputs": [
    {
     "name": "stdout",
     "output_type": "stream",
     "text": [
      "[0 1 2 3 4 5 6 7 8 9]\n",
      "\n",
      "\n",
      "2\n",
      "\n",
      "\n",
      "[2 3 4 5 6 7 8 9]\n",
      "\n",
      "\n",
      "[2 3 4]\n",
      "\n",
      "\n",
      "[2 4 6 8]\n"
     ]
    }
   ],
   "source": [
    "import numpy as np\n",
    "\n",
    "a = np.arange(10)\n",
    "\n",
    "print(a)\n",
    "print('\\n')\n",
    "print(a[2])\n",
    "print('\\n')\n",
    "print(a[2:])\n",
    "print('\\n')\n",
    "print(a[2:5])\n",
    "print('\\n')\n",
    "print(a[2::2])"
   ]
  },
  {
   "cell_type": "markdown",
   "metadata": {},
   "source": [
    "多维的数组每个轴可以有一个索引。这些索引以逗号分隔的元组给出："
   ]
  },
  {
   "cell_type": "code",
   "execution_count": 7,
   "metadata": {
    "scrolled": true
   },
   "outputs": [
    {
     "name": "stdout",
     "output_type": "stream",
     "text": [
      "[[ 0  1  2  3]\n",
      " [10 11 12 13]\n",
      " [20 21 22 23]\n",
      " [30 31 32 33]\n",
      " [40 41 42 43]]\n",
      "\n",
      "\n",
      "23\n",
      "\n",
      "\n",
      "[ 1 11 21 31 41]\n",
      "\n",
      "\n",
      "[[ 1  2]\n",
      " [11 12]\n",
      " [21 22]\n",
      " [31 32]\n",
      " [41 42]]\n",
      "\n",
      "\n",
      "[[10 11 12 13]\n",
      " [20 21 22 23]]\n"
     ]
    }
   ],
   "source": [
    "import numpy as np\n",
    "\n",
    "def f(x, y):\n",
    "    return x * 10 + y\n",
    "\n",
    "a = np.fromfunction(f,(5,4),dtype=int)\n",
    "\n",
    "print(a)\n",
    "print('\\n')\n",
    "print(a[2, 3])\n",
    "print('\\n')\n",
    "print(a[0:5, 1])\n",
    "print('\\n')\n",
    "print(a[ : ,1:3])\n",
    "print('\\n')\n",
    "print(a[1:3, : ])\n"
   ]
  },
  {
   "cell_type": "markdown",
   "metadata": {},
   "source": [
    "切片还可以包括省略号 …，来使选择元组的长度与数组的维度相同。"
   ]
  },
  {
   "cell_type": "code",
   "execution_count": 9,
   "metadata": {
    "scrolled": true
   },
   "outputs": [
    {
     "name": "stdout",
     "output_type": "stream",
     "text": [
      "[[1 2 3]\n",
      " [3 4 5]\n",
      " [4 5 6]]\n",
      "\n",
      "\n",
      "[2 4 5]\n",
      "\n",
      "\n",
      "[3 4 5]\n",
      "\n",
      "\n",
      "[[2 3]\n",
      " [4 5]\n",
      " [5 6]]\n"
     ]
    }
   ],
   "source": [
    "import numpy as np\n",
    " \n",
    "a = np.array([[1,2,3],[3,4,5],[4,5,6]])\n",
    "print (a)\n",
    "print('\\n')\n",
    "print (a[...,1])\n",
    "print('\\n')\n",
    "print (a[1,...])\n",
    "print('\\n')\n",
    "print (a[...,1:])"
   ]
  },
  {
   "cell_type": "markdown",
   "metadata": {},
   "source": [
    "对多维数组进行 迭代（Iterating） 是相对于第一个轴完成的："
   ]
  },
  {
   "cell_type": "code",
   "execution_count": 12,
   "metadata": {},
   "outputs": [
    {
     "name": "stdout",
     "output_type": "stream",
     "text": [
      "[[1 2 3]\n",
      " [3 4 5]\n",
      " [4 5 6]]\n",
      "\n",
      "\n",
      "[1 2 3]\n",
      "[3 4 5]\n",
      "[4 5 6]\n"
     ]
    }
   ],
   "source": [
    "import numpy as np\n",
    " \n",
    "a = np.array([[1,2,3],[3,4,5],[4,5,6]])\n",
    "\n",
    "print(a)\n",
    "print('\\n')\n",
    "\n",
    "for row in a:\n",
    "    print(row)"
   ]
  },
  {
   "cell_type": "markdown",
   "metadata": {},
   "source": [
    "如果想要对数组中的每个元素执行操作，可以使用flat属性"
   ]
  },
  {
   "cell_type": "code",
   "execution_count": 14,
   "metadata": {
    "scrolled": true
   },
   "outputs": [
    {
     "name": "stdout",
     "output_type": "stream",
     "text": [
      "[[1 2 3]\n",
      " [3 4 5]\n",
      " [4 5 6]]\n",
      "\n",
      "\n",
      "1\n",
      "2\n",
      "3\n",
      "3\n",
      "4\n",
      "5\n",
      "4\n",
      "5\n",
      "6\n"
     ]
    }
   ],
   "source": [
    "import numpy as np\n",
    " \n",
    "a = np.array([[1,2,3],[3,4,5],[4,5,6]])\n",
    "\n",
    "print(a)\n",
    "print('\\n')\n",
    "\n",
    "for element in a.flat:\n",
    "    print(element)"
   ]
  },
  {
   "cell_type": "markdown",
   "metadata": {},
   "source": [
    "## 花式索引和索引技巧\n",
    "\n",
    "NumPy提供比常规Python序列更多的索引功能。除了通过整数和切片进行索引之外，数组还可以由整数数组和布尔数组索引。"
   ]
  },
  {
   "cell_type": "markdown",
   "metadata": {},
   "source": [
    "### 使用索引数组进行索引"
   ]
  },
  {
   "cell_type": "code",
   "execution_count": 17,
   "metadata": {
    "scrolled": true
   },
   "outputs": [
    {
     "name": "stdout",
     "output_type": "stream",
     "text": [
      "[  0   1   4   9  16  25  36  49  64  81 100 121]\n",
      "\n",
      "\n",
      "[ 1  1  9 64 25]\n",
      "[[ 9 16]\n",
      " [81 49]]\n"
     ]
    }
   ],
   "source": [
    "import numpy as np\n",
    " \n",
    "a = np.arange(12)**2\n",
    "\n",
    "print(a)\n",
    "print('\\n')\n",
    "\n",
    "i = np.array( [ 1,1,3,8,5 ] )\n",
    "# the elements of a at the positions i\n",
    "print(a[i])\n",
    "\n",
    "j = np.array( [ [ 3, 4], [ 9, 7 ] ] )\n",
    "# the same shape as j\n",
    "print(a[j])"
   ]
  },
  {
   "cell_type": "markdown",
   "metadata": {},
   "source": [
    "### 使用布尔数组进行索引"
   ]
  },
  {
   "cell_type": "code",
   "execution_count": 19,
   "metadata": {
    "scrolled": true
   },
   "outputs": [
    {
     "name": "stdout",
     "output_type": "stream",
     "text": [
      "[[ 0  1  2  3]\n",
      " [ 4  5  6  7]\n",
      " [ 8  9 10 11]]\n",
      "\n",
      "\n",
      "[[False False False False]\n",
      " [False  True  True  True]\n",
      " [ True  True  True  True]]\n",
      "\n",
      "\n",
      "[ 5  6  7  8  9 10 11]\n",
      "\n",
      "\n",
      "[[0 1 2 3]\n",
      " [4 0 0 0]\n",
      " [0 0 0 0]]\n"
     ]
    }
   ],
   "source": [
    "import numpy as np\n",
    " \n",
    "a = np.arange(12).reshape(3,4)\n",
    "\n",
    "print(a)\n",
    "print('\\n')\n",
    "\n",
    "b = a > 4\n",
    "print(b)\n",
    "print('\\n')\n",
    "\n",
    "print(a[b])\n",
    "print('\\n')\n",
    "\n",
    "a[b] = 0\n",
    "print(a)"
   ]
  },
  {
   "cell_type": "markdown",
   "metadata": {},
   "source": [
    "### ix_()函数\n",
    "\n",
    "ix_ 函数可用于组合不同的向量，以便获得每个n-uplet的结果。"
   ]
  },
  {
   "cell_type": "markdown",
   "metadata": {},
   "source": [
    "例如，如果要计算从每个向量a，b和c中取得的所有三元组的所有a + b * c："
   ]
  },
  {
   "cell_type": "code",
   "execution_count": 22,
   "metadata": {},
   "outputs": [
    {
     "name": "stdout",
     "output_type": "stream",
     "text": [
      "[[[2]]\n",
      "\n",
      " [[3]]\n",
      "\n",
      " [[4]]\n",
      "\n",
      " [[5]]]\n",
      "\n",
      "\n",
      "[[[8]\n",
      "  [5]\n",
      "  [4]]]\n",
      "\n",
      "\n",
      "[[[5 4 6 8 3]]]\n",
      "\n",
      "\n",
      "(4, 1, 1) (1, 3, 1) (1, 1, 5)\n",
      "\n",
      "\n",
      "[[[42 34 50 66 26]\n",
      "  [27 22 32 42 17]\n",
      "  [22 18 26 34 14]]\n",
      "\n",
      " [[43 35 51 67 27]\n",
      "  [28 23 33 43 18]\n",
      "  [23 19 27 35 15]]\n",
      "\n",
      " [[44 36 52 68 28]\n",
      "  [29 24 34 44 19]\n",
      "  [24 20 28 36 16]]\n",
      "\n",
      " [[45 37 53 69 29]\n",
      "  [30 25 35 45 20]\n",
      "  [25 21 29 37 17]]]\n",
      "\n",
      "\n",
      "(4, 3, 5)\n"
     ]
    }
   ],
   "source": [
    "import numpy as np\n",
    "\n",
    "a = np.array([2,3,4,5])\n",
    "b = np.array([8,5,4])\n",
    "c = np.array([5,4,6,8,3])\n",
    "\n",
    "ax,bx,cx = np.ix_(a,b,c)\n",
    "\n",
    "print(ax)\n",
    "print('\\n')\n",
    "print(bx)\n",
    "print('\\n')\n",
    "print(cx)\n",
    "print('\\n')\n",
    "\n",
    "print(ax.shape, bx.shape, cx.shape)\n",
    "print('\\n')\n",
    "\n",
    "result = ax+bx*cx\n",
    "print(result)\n",
    "print('\\n')\n",
    "print(result.shape)"
   ]
  }
 ],
 "metadata": {
  "kernelspec": {
   "display_name": "Python 3",
   "language": "python",
   "name": "python3"
  },
  "language_info": {
   "codemirror_mode": {
    "name": "ipython",
    "version": 3
   },
   "file_extension": ".py",
   "mimetype": "text/x-python",
   "name": "python",
   "nbconvert_exporter": "python",
   "pygments_lexer": "ipython3",
   "version": "3.7.6"
  }
 },
 "nbformat": 4,
 "nbformat_minor": 4
}
