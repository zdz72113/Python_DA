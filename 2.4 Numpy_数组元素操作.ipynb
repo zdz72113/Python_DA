{
 "cells": [
  {
   "cell_type": "markdown",
   "metadata": {},
   "source": [
    "## 数组元素操作"
   ]
  },
  {
   "cell_type": "markdown",
   "metadata": {},
   "source": [
    "### Agenda\n",
    "\n",
    "- 数组基本运算\n",
    "- 统计函数\n",
    "- 其他通函数"
   ]
  },
  {
   "cell_type": "markdown",
   "metadata": {},
   "source": [
    "### 数组基本运算\n",
    "数组上的算术运算符会应用到 元素 级别。"
   ]
  },
  {
   "cell_type": "code",
   "execution_count": 1,
   "metadata": {},
   "outputs": [
    {
     "name": "stdout",
     "output_type": "stream",
     "text": [
      "[20 29 38 47]\n",
      "\n",
      "\n",
      "[0 1 4 9]\n",
      "\n",
      "\n",
      "[ 9.12945251 -9.88031624  7.4511316  -2.62374854]\n",
      "\n",
      "\n",
      "[ True  True False False]\n"
     ]
    }
   ],
   "source": [
    "import numpy as np\n",
    "\n",
    "a = np.array( [20,30,40,50] )\n",
    "b = np.arange( 4 )\n",
    "\n",
    "print(a-b)\n",
    "print('\\n')\n",
    "\n",
    "print(b**2)\n",
    "print('\\n')\n",
    "\n",
    "print(10*np.sin(a))\n",
    "print('\\n')\n",
    "\n",
    "print(a < 35)"
   ]
  },
  {
   "cell_type": "markdown",
   "metadata": {},
   "source": [
    "与许多矩阵语言不同，乘积运算符*在NumPy数组中按元素进行运算。矩阵乘积可以使用@运算符（在python> = 3.5中）或dot函数或方法执行："
   ]
  },
  {
   "cell_type": "code",
   "execution_count": 2,
   "metadata": {
    "scrolled": true
   },
   "outputs": [
    {
     "name": "stdout",
     "output_type": "stream",
     "text": [
      "[[2 0]\n",
      " [0 4]]\n",
      "\n",
      "\n",
      "[[5 4]\n",
      " [3 4]]\n",
      "\n",
      "\n",
      "[[5 4]\n",
      " [3 4]]\n"
     ]
    }
   ],
   "source": [
    "import numpy as np\n",
    "\n",
    "a = np.array( [[1,1],\n",
    "                [0,1]] )\n",
    "b = np.array( [[2,0],\n",
    "                [3,4]] )\n",
    "\n",
    "print(a*b)\n",
    "print('\\n')\n",
    "\n",
    "print(a@b)\n",
    "print('\\n')\n",
    "\n",
    "print(a.dot(b))"
   ]
  },
  {
   "cell_type": "markdown",
   "metadata": {},
   "source": [
    "### 统计函数\n",
    "许多一元操作，例如计算数组中所有元素的总和，都是作为ndarray类的方法实现的。"
   ]
  },
  {
   "cell_type": "code",
   "execution_count": 10,
   "metadata": {},
   "outputs": [
    {
     "name": "stdout",
     "output_type": "stream",
     "text": [
      "[[0.02056687 0.50507356 0.33728773]\n",
      " [0.78762821 0.97758817 0.70379367]]\n",
      "\n",
      "\n",
      "0.9775881655000612\n",
      "\n",
      "\n",
      "0.02056687297536064\n",
      "\n",
      "\n",
      "3.3319382096333285\n",
      "\n",
      "\n",
      "[0.02056687 0.52564043 0.86292817 1.65055637 2.62814454 3.33193821]\n"
     ]
    }
   ],
   "source": [
    "import numpy as np\n",
    "\n",
    "a = np.random.random((2,3))\n",
    "\n",
    "print(a)\n",
    "print('\\n')\n",
    "\n",
    "print(a.max())\n",
    "print('\\n')\n",
    "\n",
    "print(a.min())\n",
    "print('\\n')\n",
    "\n",
    "print(a.sum())\n",
    "print('\\n')\n",
    "\n",
    "print(a.cumsum())"
   ]
  },
  {
   "cell_type": "markdown",
   "metadata": {},
   "source": [
    "通过指定axis 参数，您可以沿数组的指定轴应用操作："
   ]
  },
  {
   "cell_type": "code",
   "execution_count": 9,
   "metadata": {
    "scrolled": true
   },
   "outputs": [
    {
     "name": "stdout",
     "output_type": "stream",
     "text": [
      "[[ 0  1  2  3]\n",
      " [ 4  5  6  7]\n",
      " [ 8  9 10 11]]\n",
      "\n",
      "\n",
      "[ 3  7 11]\n",
      "\n",
      "\n",
      "[0 4 8]\n",
      "\n",
      "\n",
      "[ 6 22 38]\n",
      "\n",
      "\n",
      "[[ 0  1  3  6]\n",
      " [ 4  9 15 22]\n",
      " [ 8 17 27 38]]\n",
      "[ 0  1  3  6 10 15 21 28 36 45 55 66]\n"
     ]
    }
   ],
   "source": [
    "b = np.arange(12).reshape(3,4)\n",
    "\n",
    "print(b)\n",
    "print('\\n')\n",
    "\n",
    "print(b.max(axis=1))\n",
    "print('\\n')\n",
    "\n",
    "print(b.min(axis=1))\n",
    "print('\\n')\n",
    "\n",
    "print(b.sum(axis=1))\n",
    "print('\\n')\n",
    "\n",
    "print(b.cumsum(axis=1))"
   ]
  },
  {
   "cell_type": "markdown",
   "metadata": {},
   "source": [
    "## 其他通函数\n",
    "\n",
    "NumPy提供熟悉的数学函数，例如sin，cos和exp。在NumPy中，这些被称为“通函数”（ufunc）。在NumPy中，这些函数在数组上按元素进行运算，产生一个数组作为输出。\n",
    "\n",
    "* **数学**\n",
    "* **算术**\n",
    "* **统计**\n",
    "* **询问**\n",
    "* **排序**"
   ]
  }
 ],
 "metadata": {
  "kernelspec": {
   "display_name": "Python 3",
   "language": "python",
   "name": "python3"
  },
  "language_info": {
   "codemirror_mode": {
    "name": "ipython",
    "version": 3
   },
   "file_extension": ".py",
   "mimetype": "text/x-python",
   "name": "python",
   "nbconvert_exporter": "python",
   "pygments_lexer": "ipython3",
   "version": "3.7.6"
  }
 },
 "nbformat": 4,
 "nbformat_minor": 4
}
