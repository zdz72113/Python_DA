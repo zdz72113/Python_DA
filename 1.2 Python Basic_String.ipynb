{
 "cells": [
  {
   "cell_type": "markdown",
   "metadata": {},
   "source": [
    "## 基础类型 - 字符串(String)\n",
    "\n",
    "字符串是以单引号'或双引号\"括起来的任意文本，比如'abc'，\"xyz\"等等."
   ]
  },
  {
   "cell_type": "code",
   "execution_count": 46,
   "metadata": {},
   "outputs": [
    {
     "name": "stdout",
     "output_type": "stream",
     "text": [
      "Hello World!\n"
     ]
    }
   ],
   "source": [
    "var1 = 'Hello World!'\n",
    "print(var1)"
   ]
  },
  {
   "cell_type": "markdown",
   "metadata": {},
   "source": [
    "### Agenda\n",
    "\n",
    "- 转义字符\n",
    "- 字符串运算符\n",
    "- 格式化\n",
    "- 字符串编码\n",
    "- 字符串函数"
   ]
  },
  {
   "cell_type": "markdown",
   "metadata": {},
   "source": [
    "### 转义字符\n",
    "在需要在字符中使用特殊字符时，python用反斜杠(\\)转义字符。如下表"
   ]
  },
  {
   "cell_type": "markdown",
   "metadata": {},
   "source": [
    "转义字符 | 描述\n",
    ":----|:----\n",
    "\\\\(在行尾时) | 续行符\n",
    "\\\\\\ | 反斜杠符号\n",
    "\\\\' | 单引号\n",
    "\\\\\" | 双引号\n",
    "\\\\a | 响铃\n",
    "\\\\b | 退格(Backspace)\n",
    "\\\\000 | 空\n",
    "\\\\n | 换行\n",
    "\\\\v | 纵向制表符\n",
    "\\\\t | 横向制表符\n",
    "\\\\r | 回车\n",
    "\\\\f | 换页\n",
    "\\\\oyy | 八进制数，yy 代表的字符，例如：\\o12 代表换行，其中 o 是字母，不是数字 0。\n",
    "\\\\xyy | 十六进制数，yy代表的字符，例如：\\x0a代表换行\n",
    "\\\\other | 其它的字符以普通格式输出"
   ]
  },
  {
   "cell_type": "code",
   "execution_count": 47,
   "metadata": {},
   "outputs": [
    {
     "name": "stdout",
     "output_type": "stream",
     "text": [
      "I'm ok.\n",
      "I'm learning\n",
      "Python.\n"
     ]
    }
   ],
   "source": [
    "print('I\\'m ok.')\n",
    "print('I\\'m learning\\nPython.')"
   ]
  },
  {
   "cell_type": "markdown",
   "metadata": {},
   "source": [
    "### 字符串运算符"
   ]
  },
  {
   "cell_type": "markdown",
   "metadata": {},
   "source": [
    "运算符 | 描述 | 实例\n",
    ":----|:----|:----\n",
    "+ | 字符串连接 | a + b 输出结果： HelloPython\n",
    "* | 重复输出字符串 | a*2 输出结果：HelloHello\n",
    "[] | 通过索引获取字符串中字符 | a[1] 输出结果 e\n",
    "[ : ] | 截取字符串中的一部分，遵循左闭右开原则，str[0:2] 是不包含第 3 个字符的。| a[1:4] 输出结果 ell\n",
    "in | 成员运算符 - 如果字符串中包含给定的字符返回 True | 'H' in a 输出结果 True\n",
    "not in | 成员运算符 - 如果字符串中不包含给定的字符返回 True | 'M' not in a 输出结果 True\n",
    "r/R | 原始字符串 - 原始字符串：所有的字符串都是直接按照字面的意思来使用，没有转义特殊或不能打印的字符。 原始字符串除在字符串的第一个引号前加上字母 r（可以大小写）以外，与普通字符串有着几乎完全相同的语法。 |  print( r'\\n' ) print( R'\\n' )\n",
    "% | 格式字符串 | "
   ]
  },
  {
   "cell_type": "code",
   "execution_count": 48,
   "metadata": {},
   "outputs": [
    {
     "name": "stdout",
     "output_type": "stream",
     "text": [
      "a + b 输出结果： HelloPython\n",
      "a * 2 输出结果： HelloHello\n",
      "a[1] 输出结果： e\n",
      "a[1:4] 输出结果： ell\n",
      "H 在变量 a 中\n",
      "M 不在变量 a 中\n",
      "\\n\n",
      "\\n\n"
     ]
    }
   ],
   "source": [
    "a = \"Hello\"\n",
    "b = \"Python\"\n",
    " \n",
    "print(\"a + b 输出结果：\", a + b)\n",
    "print(\"a * 2 输出结果：\", a * 2)\n",
    "print(\"a[1] 输出结果：\", a[1])\n",
    "print(\"a[1:4] 输出结果：\", a[1:4])\n",
    " \n",
    "if( \"H\" in a) :\n",
    "    print(\"H 在变量 a 中\")\n",
    "else :\n",
    "    print(\"H 不在变量 a 中\")\n",
    " \n",
    "if( \"M\" not in a) :\n",
    "    print(\"M 不在变量 a 中\")\n",
    "else :\n",
    "    print(\"M 在变量 a 中\")\n",
    " \n",
    "print (r'\\n')\n",
    "print (R'\\n')"
   ]
  },
  {
   "cell_type": "markdown",
   "metadata": {},
   "source": [
    "### 格式化\n",
    "Python 支持格式化字符串的输出.\n",
    "\n",
    "占位符 | 替换内容\n",
    ":----|:----\n",
    "%d | 整数\n",
    "%f | 浮点数\n",
    "%s | 字符串\n",
    "%x | 十六进制整数"
   ]
  },
  {
   "cell_type": "code",
   "execution_count": 49,
   "metadata": {
    "scrolled": true
   },
   "outputs": [
    {
     "name": "stdout",
     "output_type": "stream",
     "text": [
      "我叫 小明 今年 10 岁!\n",
      "3-01\n",
      "3.14\n"
     ]
    }
   ],
   "source": [
    "print (\"我叫 %s 今年 %d 岁!\" % ('小明', 10.1))\n",
    "print('%d-%02d' % (3, 1))\n",
    "print('%.2f' % 3.1415926)"
   ]
  },
  {
   "cell_type": "markdown",
   "metadata": {},
   "source": [
    "***f-string*** 是 python3.6 之后版本添加的，称之为字面量格式化字符串，是新的格式化字符串的语法. \n",
    "f-string 格式化字符串以 f 开头，后面跟着字符串，字符串中的表达式用大括号 {} 包起来，它会将变量或表达式计算后的值替换进去，实例如下："
   ]
  },
  {
   "cell_type": "code",
   "execution_count": 50,
   "metadata": {},
   "outputs": [
    {
     "data": {
      "text/plain": [
       "'3'"
      ]
     },
     "execution_count": 50,
     "metadata": {},
     "output_type": "execute_result"
    }
   ],
   "source": [
    "f'{1+2}'"
   ]
  },
  {
   "cell_type": "markdown",
   "metadata": {},
   "source": [
    "***Python三引号***允许一个字符串跨多行，字符串中可以包含换行符、制表符以及其他特殊字符。实例如下"
   ]
  },
  {
   "cell_type": "code",
   "execution_count": 51,
   "metadata": {},
   "outputs": [
    {
     "name": "stdout",
     "output_type": "stream",
     "text": [
      "\n",
      "<HTML><HEAD><TITLE>\n",
      "Friends CGI Demo</TITLE></HEAD>\n",
      "<BODY><H3>ERROR</H3>\n",
      "<B>%s</B><P>\n",
      "<FORM><INPUT TYPE=button VALUE=Back\n",
      "ONCLICK=\"window.history.back()\"></FORM>\n",
      "</BODY></HTML>\n",
      "\n"
     ]
    }
   ],
   "source": [
    "errHTML = '''\n",
    "<HTML><HEAD><TITLE>\n",
    "Friends CGI Demo</TITLE></HEAD>\n",
    "<BODY><H3>ERROR</H3>\n",
    "<B>%s</B><P>\n",
    "<FORM><INPUT TYPE=button VALUE=Back\n",
    "ONCLICK=\"window.history.back()\"></FORM>\n",
    "</BODY></HTML>\n",
    "'''\n",
    "print(errHTML)"
   ]
  },
  {
   "cell_type": "markdown",
   "metadata": {},
   "source": [
    "### 字符串编码\n",
    "在Python 3版本中，字符串是以Unicode编码的，也就是说，Python的字符串支持多语言。"
   ]
  },
  {
   "cell_type": "code",
   "execution_count": 52,
   "metadata": {},
   "outputs": [
    {
     "name": "stdout",
     "output_type": "stream",
     "text": [
      "包含中文的str\n"
     ]
    }
   ],
   "source": [
    "print('包含中文的str')"
   ]
  },
  {
   "cell_type": "markdown",
   "metadata": {},
   "source": [
    "对于单个字符的编码，Python提供了ord()函数获取字符的整数表示，chr()函数把编码转换为对应的字符"
   ]
  },
  {
   "cell_type": "code",
   "execution_count": 53,
   "metadata": {},
   "outputs": [
    {
     "name": "stdout",
     "output_type": "stream",
     "text": [
      "65\n",
      "20013\n"
     ]
    }
   ],
   "source": [
    "print(ord('A'))\n",
    "print(ord('中'))"
   ]
  },
  {
   "cell_type": "code",
   "execution_count": 54,
   "metadata": {},
   "outputs": [
    {
     "name": "stdout",
     "output_type": "stream",
     "text": [
      "A\n",
      "中\n"
     ]
    }
   ],
   "source": [
    "print(chr(65))\n",
    "print(chr(20013))"
   ]
  },
  {
   "cell_type": "markdown",
   "metadata": {},
   "source": [
    "### 字符串函数\n",
    "Python 的字符串常用内建函数如下：\n",
    "\n",
    "方法 | 描述\n",
    ":----|:----\n",
    "capitalize() | 将字符串的第一个字符转换为大写\n",
    "center(width, fillchar) | 返回一个指定的宽度 width 居中的字符串，fillchar 为填充的字符，默认为空格。\n",
    "count(str, beg= 0,end=len(string)) | 返回 str 在 string 里面出现的次数，如果 beg 或者 end 指定则返回指定范围内 str 出现的次数\n",
    "bytes.decode(encoding=\"utf-8\", errors=\"strict\") | Python3 中没有 decode 方法，但我们可以使用 bytes 对象的 decode() 方法来解码给定的 bytes 对象，这个 bytes 对象可以由 str.encode() 来编码返回。\n",
    "encode(encoding='UTF-8',errors='strict') | 以 encoding 指定的编码格式编码字符串，如果出错默认报一个ValueError 的异常，除非 errors 指定的是'ignore'或者'replace'\n",
    "endswith(suffix, beg=0, end=len(string)) | 检查字符串是否以 obj 结束，如果beg 或者 end 指定则检查指定的范围内是否以 obj 结束，如果是，返回 True,否则返回 False.\n",
    "expandtabs(tabsize=8) | 把字符串 string 中的 tab 符号转为空格，tab 符号默认的空格数是 8 。\n",
    "find(str, beg=0, end=len(string)) | 检测 str 是否包含在字符串中，如果指定范围 beg 和 end ，则检查是否包含在指定范围内，如果包含返回开始的索引值，否则返回-1\n",
    "index(str, beg=0, end=len(string)) | 跟find()方法一样，只不过如果str不在字符串中会报一个异常.\n",
    "isalnum() | 如果字符串至少有一个字符并且所有字符都是字母或数字则返 回 True,否则返回 False\n",
    "isalpha() | 如果字符串至少有一个字符并且所有字符都是字母则返回 True, 否则返回 False\n",
    "isdigit() | 如果字符串只包含数字则返回 True 否则返回 False.\n",
    "islower() | 如果字符串中包含至少一个区分大小写的字符，并且所有这些(区分大小写的)字符都是小写，则返回 True，否则返回 False\n",
    "isnumeric() | 如果字符串中只包含数字字符，则返回 True，否则返回 False\n",
    "isspace() | 如果字符串中只包含空白，则返回 True，否则返回 Fals\n",
    "istitle() | 如果字符串中包含至少一个区分大小写的字符，并且所有这些(区分大小写的)字符都是大写，则返回 True，否则返回 False\n",
    "join(seq) | 以指定字符串作为分隔符，将 seq 中所有的元素(的字符串表示)合并为一个新的字符串\n",
    "len(string) | 返回字符串长度\n",
    "ljust(width[, fillchar]) | 返回一个原字符串左对齐,并使用 fillchar 填充至长度 width 的新字符串，fillchar 默认为空格。\n",
    "lower() | 转换字符串中所有大写字符为小写.\n",
    "lstrip() | 截掉字符串左边的空格或指定字符。\n",
    "maketrans() | 创建字符映射的转换表，对于接受两个参数的最简单的调用方式，第一个参数是字符串，表示需要转换的字符，第二个参数也是字符串表示转换的目标。\n",
    "max(str) | 返回字符串 str 中最大的字母。\n",
    "min(str) | 返回字符串 str 中最小的字母。\n",
    "replace(old, new [, max]) | 把 将字符串中的 str1 替换成 str2,如果 max 指定，则替换不超过 max 次。\n",
    "rfind(str, beg=0,end=len(string)) | 类似于 find()函数，不过是从右边开始查找.\n",
    "rindex( str, beg=0, end=len(string)) | 类似于 index()，不过是从右边开始.\n",
    "rjust(width,[, fillchar]) | 返回一个原字符串右对齐,并使用fillchar(默认空格）填充至长度 width 的新字符串\n",
    "rstrip() | 删除字符串字符串末尾的空格.\n",
    "split(str=\"\", num=string.count(str)) | num=string.count(str)) 以 str 为分隔符截取字符串，如果 num 有指定值，则仅截取 num+1 个子字符串\n",
    "splitlines([keepends]) | 按照行('\\r', '\\r\\n', \\n')分隔，返回一个包含各行作为元素的列表，如果参数 keepends 为 False，不包含换行符，如果为 True，则保留换行符。\n",
    "startswith(substr, beg=0,end=len(string)) | 检查字符串是否是以指定子字符串 substr 开头，是则返回 True，否则返回 False。如果beg 和 end 指定值，则在指定范围内检查。\n",
    "strip([chars]) | 在字符串上执行 lstrip()和 rstrip()\n",
    "swapcase() | 将字符串中大写转换为小写，小写转换为大写\n",
    "title() | 返回\"标题化\"的字符串,就是说所有单词都是以大写开始，其余字母均为小写(见 istitle())\n",
    "translate(table, deletechars=\"\") | 根据 str 给出的表(包含 256 个字符)转换 string 的字符, 要过滤掉的字符放到 deletechars 参数中\n",
    "upper() | 转换字符串中的小写字母为大写\n",
    "zfill (width) | 返回长度为 width 的字符串，原字符串右对齐，前面填充0\n",
    "isdecimal() | 检查字符串是否只包含十进制字符，如果是返回 true，否则返回 false。"
   ]
  },
  {
   "cell_type": "code",
   "execution_count": 55,
   "metadata": {},
   "outputs": [
    {
     "name": "stdout",
     "output_type": "stream",
     "text": [
      "6\n",
      "abc;b1\n",
      "1\n",
      "['Abc', 'B1']\n"
     ]
    }
   ],
   "source": [
    "str1 = 'Abc;B1'\n",
    "print(len(str1))\n",
    "print(str1.lower())\n",
    "print(str1.find('b'))\n",
    "print(str1.split(';'))"
   ]
  },
  {
   "cell_type": "markdown",
   "metadata": {},
   "source": [
    "### 参考\n",
    "\n",
    "- [Python 官方教程](https://docs.python.org/zh-cn/3/tutorial/)\n",
    "- [Python 3 教程](https://www.runoob.com/python3/python3-intro.html)\n",
    "- [Python教程-廖雪峰](https://www.liaoxuefeng.com/wiki/1016959663602400)"
   ]
  }
 ],
 "metadata": {
  "kernelspec": {
   "display_name": "Python 3",
   "language": "python",
   "name": "python3"
  },
  "language_info": {
   "codemirror_mode": {
    "name": "ipython",
    "version": 3
   },
   "file_extension": ".py",
   "mimetype": "text/x-python",
   "name": "python",
   "nbconvert_exporter": "python",
   "pygments_lexer": "ipython3",
   "version": "3.7.6"
  }
 },
 "nbformat": 4,
 "nbformat_minor": 4
}
