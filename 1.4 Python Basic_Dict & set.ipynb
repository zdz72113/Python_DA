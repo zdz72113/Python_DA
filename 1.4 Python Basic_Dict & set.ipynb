{
 "cells": [
  {
   "cell_type": "markdown",
   "metadata": {},
   "source": [
    "# 基础类型 - 字典和集合"
   ]
  },
  {
   "cell_type": "markdown",
   "metadata": {},
   "source": [
    "### Agenda\n",
    "\n",
    "- 字典\n",
    "    - 操作字典元素\n",
    "    - 字典函数&方法\n",
    "- 集合\n",
    "    - 集合间的运算\n",
    "    - 集合基本操作\n",
    "    - 集合函数&方法"
   ]
  },
  {
   "cell_type": "markdown",
   "metadata": {},
   "source": [
    "## 基础类型 - 字典(Dictionary)\n",
    "\n",
    "字典使用键-值（key-value）存储，具有极快的查找速度.\n",
    "\n",
    "字典的每个键值(key=>value)对用冒号(:)分割，每个对之间用逗号(,)分割，整个字典包括在花括号({})中.\n",
    "\n",
    "键必须是唯一的，但值则不必.\n",
    "\n",
    "值可以取任何数据类型，但键必须是不可变的，如字符串，数字或元组."
   ]
  },
  {
   "cell_type": "code",
   "execution_count": 1,
   "metadata": {},
   "outputs": [
    {
     "name": "stdout",
     "output_type": "stream",
     "text": [
      "Roy\n",
      "7\n"
     ]
    }
   ],
   "source": [
    "dict = {'Name': 'Roy', 'Age': 7, 'Class': 'First'}\n",
    "print(dict['Name'])\n",
    "print(dict['Age'])"
   ]
  },
  {
   "cell_type": "markdown",
   "metadata": {},
   "source": [
    "如果key不存在，dict就会报错."
   ]
  },
  {
   "cell_type": "code",
   "execution_count": 2,
   "metadata": {},
   "outputs": [
    {
     "ename": "KeyError",
     "evalue": "'School'",
     "output_type": "error",
     "traceback": [
      "\u001b[1;31m---------------------------------------------------------------------------\u001b[0m",
      "\u001b[1;31mKeyError\u001b[0m                                  Traceback (most recent call last)",
      "\u001b[1;32m<ipython-input-2-66063439910d>\u001b[0m in \u001b[0;36m<module>\u001b[1;34m\u001b[0m\n\u001b[1;32m----> 1\u001b[1;33m \u001b[0mprint\u001b[0m\u001b[1;33m(\u001b[0m\u001b[0mdict\u001b[0m\u001b[1;33m[\u001b[0m\u001b[1;34m'School'\u001b[0m\u001b[1;33m]\u001b[0m\u001b[1;33m)\u001b[0m\u001b[1;33m\u001b[0m\u001b[1;33m\u001b[0m\u001b[0m\n\u001b[0m",
      "\u001b[1;31mKeyError\u001b[0m: 'School'"
     ]
    }
   ],
   "source": [
    "print(dict['School'])"
   ]
  },
  {
   "cell_type": "markdown",
   "metadata": {},
   "source": [
    "要避免key不存在的错误，有两种办法，一是通过in判断key是否存在, 二是通过dict提供的get()方法，如果key不存在，可以返回None，或者自己指定的value."
   ]
  },
  {
   "cell_type": "code",
   "execution_count": null,
   "metadata": {},
   "outputs": [],
   "source": [
    "'School' in dict"
   ]
  },
  {
   "cell_type": "code",
   "execution_count": null,
   "metadata": {},
   "outputs": [],
   "source": [
    "dict.get('School', 0)"
   ]
  },
  {
   "cell_type": "markdown",
   "metadata": {},
   "source": [
    "### 操作字典元素"
   ]
  },
  {
   "cell_type": "code",
   "execution_count": null,
   "metadata": {},
   "outputs": [],
   "source": [
    "dict['School'] = 'Roy\\' School'  #增加\n",
    "print(dict['School'])\n",
    "\n",
    "print(dict['Class'])\n",
    "dict['Class'] = 'Second'  #修改\n",
    "print(dict['Class'])"
   ]
  },
  {
   "cell_type": "code",
   "execution_count": null,
   "metadata": {},
   "outputs": [],
   "source": [
    "del dict['School']  # 删除键 'School'\n",
    "dict.clear()       # 清空字典\n",
    "del dict          # 删除字典"
   ]
  },
  {
   "cell_type": "markdown",
   "metadata": {},
   "source": [
    "### 字典函数&方法\n",
    "\n",
    "函数/方法 | 描述\n",
    ":----|:----\n",
    "len(dict) | 计算字典元素个数\n",
    "dict.clear() | 删除字典内所有元素 \n",
    "dict.copy() | 返回一个字典的浅复制\n",
    "dict.fromkeys() | 创建一个新字典，以序列seq中元素做字典的键，val为字典所有键对应的初始值\n",
    "dict.get(key, default=None) | 返回指定键的值，如果值不在字典中返回default值\n",
    "key in dict | 删除字典内所有元素 \n",
    "dict.copy() | 如果键在字典dict里返回true，否则返回false\n",
    "dict.items() | 以列表返回可遍历的(键, 值) 元组数组\n",
    "dict.keys() | 返回一个迭代器，可以使用 list() 来转换为列表\n",
    "dict.setdefault(key, default=None) | 和get()类似, 但如果键不存在于字典中，将会添加键并将值设为default\n",
    "dict.update(dict2) | 把字典dict2的键/值对更新到dict里\n",
    "dict.values() | 返回一个迭代器，可以使用 list() 来转换为列表\n",
    "pop(key[,default]) | 删除字典给定键 key 所对应的值，返回值为被删除的值。key值必须给出。 否则，返回default值\n",
    "popitem() | 随机返回并删除字典中的最后一对键和值"
   ]
  },
  {
   "cell_type": "code",
   "execution_count": null,
   "metadata": {},
   "outputs": [],
   "source": [
    "dict = {'Name': 'Roy', 'Age': 7, 'Class': 'First'}\n",
    "print(dict.items())\n",
    "print(dict.keys())\n",
    "print(dict.values())"
   ]
  },
  {
   "cell_type": "markdown",
   "metadata": {},
   "source": [
    "## 基础类型 - 集合(Set)\n",
    "\n",
    "集合（set）是一个无序的不重复元素序列.\n",
    "\n",
    "可以使用大括号 { } 或者 set() 函数创建集合，注意：创建一个空集合必须用 set() 而不是 { }，因为 { } 是用来创建一个空字典。"
   ]
  },
  {
   "cell_type": "code",
   "execution_count": null,
   "metadata": {},
   "outputs": [],
   "source": [
    "set1 = {1, 1, 2, 3, 4, 5} #自动去重\n",
    "print(set1)"
   ]
  },
  {
   "cell_type": "markdown",
   "metadata": {},
   "source": [
    "### 集合间的运算"
   ]
  },
  {
   "cell_type": "code",
   "execution_count": null,
   "metadata": {},
   "outputs": [],
   "source": [
    "a = set('abracadabra')\n",
    "b = set('alacazam')\n",
    "\n",
    "print(a)\n",
    "print(a - b)   # 集合a中包含而集合b中不包含的元素\n",
    "print(a | b)   # 集合a或b中包含的所有元素\n",
    "print(a & b)   # 集合a和b中都包含了的元素\n",
    "print(a ^ b)   # 不同时包含于a和b的元素"
   ]
  },
  {
   "cell_type": "markdown",
   "metadata": {},
   "source": [
    "### 集合基本操作"
   ]
  },
  {
   "cell_type": "code",
   "execution_count": null,
   "metadata": {},
   "outputs": [],
   "source": [
    "set1.add(6) #添加\n",
    "print(set1)\n",
    "\n",
    "set1.update({7,8})  #添加列表\n",
    "print(set1)"
   ]
  },
  {
   "cell_type": "code",
   "execution_count": null,
   "metadata": {},
   "outputs": [],
   "source": [
    "set1.remove(8) #删除\n",
    "print(set1)\n",
    "set1.discard(7) #删除，且如果元素不存在，不会发生错误\n",
    "print(set1)\n",
    "set1.pop() #随机删除\n",
    "print(set1)"
   ]
  },
  {
   "cell_type": "markdown",
   "metadata": {},
   "source": [
    "### 集合函数&方法\n",
    "\n",
    "函数/方法 | 描述\n",
    ":----|:----\n",
    "len(set) | 计算元素个数\n",
    "set.clear() | 删除所有元素 \n",
    "set.add() | 为集合添加元素\n",
    "set.copy() | 拷贝一个集合\n",
    "set.difference() | 返回多个集合的差集\n",
    "set.difference_update()| 移除集合中的元素，该元素在指定的集合也存在 \n",
    "set.discard() | 删除集合中指定的元素\n",
    "set.intersection() | 返回集合的交集\n",
    "set.intersection_update() | 返回集合的交集\n",
    "set.isdisjoint() | 判断两个集合是否包含相同的元素，如果没有返回 True，否则返回 False\n",
    "set.issubset() | 判断指定集合是否为该方法参数集合的子集\n",
    "set.issuperset() | 判断该方法的参数集合是否为指定集合的子集\n",
    "set.pop() | 随机移除元素\n",
    "set.remove() | 移除指定元素\n",
    "set.symmetric_difference() | 返回两个集合中不重复的元素集合\n",
    "set.symmetric_difference_update() | 移除当前集合中在另外一个指定集合相同的元素，并将另外一个指定集合中不同的元素插入到当前集合中\n",
    "set.union() | 返回两个集合的并集\n",
    "set.update() | 给集合添加元素"
   ]
  },
  {
   "cell_type": "code",
   "execution_count": null,
   "metadata": {},
   "outputs": [],
   "source": [
    "a = set(range(10))\n",
    "b = set([1,2,3,11])\n",
    "\n",
    "print(a)\n",
    "print(b)\n",
    "print(a.difference(b))\n",
    "print(a.intersection(b))\n",
    "print(a.symmetric_difference(b))\n",
    "print(a.union(b))"
   ]
  }
 ],
 "metadata": {
  "kernelspec": {
   "display_name": "Python 3",
   "language": "python",
   "name": "python3"
  },
  "language_info": {
   "codemirror_mode": {
    "name": "ipython",
    "version": 3
   },
   "file_extension": ".py",
   "mimetype": "text/x-python",
   "name": "python",
   "nbconvert_exporter": "python",
   "pygments_lexer": "ipython3",
   "version": "3.7.6"
  }
 },
 "nbformat": 4,
 "nbformat_minor": 4
}
