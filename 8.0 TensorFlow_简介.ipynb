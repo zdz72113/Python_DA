{
 "cells": [
  {
   "cell_type": "markdown",
   "id": "5ed61a62",
   "metadata": {},
   "source": [
    "### 安装\n",
    "\n",
    "```\n",
    "# Requires the latest pip\n",
    "pip install --upgrade pip\n",
    "\n",
    "# Current stable release for CPU and GPU\n",
    "pip install tensorflow\n",
    "```"
   ]
  },
  {
   "cell_type": "markdown",
   "id": "2eb8e5ee",
   "metadata": {},
   "source": [
    "测试是否安装成功："
   ]
  },
  {
   "cell_type": "code",
   "execution_count": 1,
   "id": "c679ac6b",
   "metadata": {},
   "outputs": [
    {
     "name": "stdout",
     "output_type": "stream",
     "text": [
      "2.10.0\n"
     ]
    }
   ],
   "source": [
    "import tensorflow as tf\n",
    "\n",
    "print(tf.__version__)"
   ]
  }
 ],
 "metadata": {
  "kernelspec": {
   "display_name": "Python 3 (ipykernel)",
   "language": "python",
   "name": "python3"
  },
  "language_info": {
   "codemirror_mode": {
    "name": "ipython",
    "version": 3
   },
   "file_extension": ".py",
   "mimetype": "text/x-python",
   "name": "python",
   "nbconvert_exporter": "python",
   "pygments_lexer": "ipython3",
   "version": "3.9.12"
  }
 },
 "nbformat": 4,
 "nbformat_minor": 5
}
