{
 "cells": [
  {
   "cell_type": "markdown",
   "id": "bf8b44ea",
   "metadata": {},
   "source": [
    "参考：https://blog.csdn.net/dgvv4/article/details/124349963\n",
    "使用循环神经网络LSTM完成时间序列预测，本文是针对单个特征的预测"
   ]
  },
  {
   "cell_type": "markdown",
   "id": "508c1e00",
   "metadata": {},
   "source": [
    "### 导入工具包\n",
    "这里使用GPU加速计算，加快网络的训练速度"
   ]
  },
  {
   "cell_type": "code",
   "execution_count": 1,
   "id": "792b050e",
   "metadata": {},
   "outputs": [],
   "source": [
    "import tensorflow as tf\n",
    "from tensorflow import keras\n",
    "import numpy as np\n",
    "import pandas as pd\n",
    "import matplotlib.pyplot as plt\n",
    "import warnings\n",
    "warnings.filterwarnings('ignore')\n",
    "# 调用GPU加速\n",
    "gpus = tf.config.experimental.list_physical_devices(device_type='GPU')\n",
    "for gpu in gpus:\n",
    "    tf.config.experimental.set_memory_growth(gpu, True)"
   ]
  },
  {
   "cell_type": "markdown",
   "id": "53362fa0",
   "metadata": {},
   "source": [
    "### 获取数据"
   ]
  },
  {
   "cell_type": "code",
   "execution_count": 2,
   "id": "de373b2d",
   "metadata": {
    "scrolled": true
   },
   "outputs": [
    {
     "name": "stdout",
     "output_type": "stream",
     "text": [
      "         Datetime  AEP_MW\n",
      "0  2004/10/1 1:00   12379\n",
      "1  2004/10/1 2:00   11935\n",
      "2  2004/10/1 3:00   11692\n",
      "3  2004/10/1 4:00   11597\n",
      "4  2004/10/1 5:00   11681\n"
     ]
    }
   ],
   "source": [
    "#（1）获取数据，按时间间隔1h记录的电力数据\n",
    "filepath = 'test_data\\energy.csv'\n",
    "data = pd.read_csv(filepath)\n",
    "print(data.head())"
   ]
  },
  {
   "cell_type": "markdown",
   "id": "eae9da0a",
   "metadata": {},
   "source": [
    "### 数据预处理"
   ]
  },
  {
   "cell_type": "code",
   "execution_count": 3,
   "id": "a7b8ddda",
   "metadata": {
    "scrolled": true
   },
   "outputs": [
    {
     "ename": "NameError",
     "evalue": "name 'train_num' is not defined",
     "output_type": "error",
     "traceback": [
      "\u001b[1;31m---------------------------------------------------------------------------\u001b[0m",
      "\u001b[1;31mNameError\u001b[0m                                 Traceback (most recent call last)",
      "Input \u001b[1;32mIn [3]\u001b[0m, in \u001b[0;36m<cell line: 7>\u001b[1;34m()\u001b[0m\n\u001b[0;32m      4\u001b[0m temp\u001b[38;5;241m.\u001b[39mplot()  \u001b[38;5;66;03m# 绘图展示\u001b[39;00m\n\u001b[0;32m      6\u001b[0m \u001b[38;5;66;03m#（4）对训练集预处理\u001b[39;00m\n\u001b[1;32m----> 7\u001b[0m temp_mean \u001b[38;5;241m=\u001b[39m temp[:\u001b[43mtrain_num\u001b[49m]\u001b[38;5;241m.\u001b[39mmean()  \u001b[38;5;66;03m# 均值\u001b[39;00m\n\u001b[0;32m      8\u001b[0m temp_std \u001b[38;5;241m=\u001b[39m temp[:train_num]\u001b[38;5;241m.\u001b[39mstd()  \u001b[38;5;66;03m# 标准差\u001b[39;00m\n\u001b[0;32m      9\u001b[0m \u001b[38;5;66;03m# 标准化\u001b[39;00m\n",
      "\u001b[1;31mNameError\u001b[0m: name 'train_num' is not defined"
     ]
    },
    {
     "data": {
      "image/png": "[encoded data removed]",
      "text/plain": [
       "<Figure size 432x288 with 1 Axes>"
      ]
     },
     "metadata": {
      "needs_background": "light"
     },
     "output_type": "display_data"
    }
   ],
   "source": [
    "#（3）选择特征\n",
    "temp = data['AEP_MW'] # 获取电力数据\n",
    "temp.index = data['Datetime'] # 将索引改为时间序列\n",
    "temp.plot()  # 绘图展示"
   ]
  },
  {
   "cell_type": "markdown",
   "id": "4bf34784",
   "metadata": {},
   "source": [
    "### 划分数据集\n",
    "首先，需要通过时间序列滑动窗口选择特征值及其对应的标签值。比如对某一时间点预测，规定每20个特征值，预测得到一个标签值。由于只有一列特征数据，相当于，用前20个数据预测第21个数据。同理对某一时间片段预测，用第1到20个数据预测第21到30的电量。"
   ]
  },
  {
   "cell_type": "code",
   "execution_count": 4,
   "id": "b35d2183",
   "metadata": {},
   "outputs": [],
   "source": [
    "#（2）构建时间序列采样函数\n",
    "'''\n",
    "dataset为输入的特征数据，选取用哪些特征\n",
    "start_index 这么多数据选择从哪个开始，一般从0开始取序列\n",
    "history_size表示时间窗口大小；若为20，代表从起始索引开始找20个样本当作x，下一个索引当作y\n",
    "target_size表示需要预测的结果时窗口后的第几个时间点；0表示下一时间点的预测结果，取其当作标签；若为一个序列，预测一个序列的指标\n",
    "indices=range(i, i+history_size) 代表窗口序列的索引，i表示每个窗口的起始位置，窗口中所有数据的索引\n",
    "'''\n",
    "def database(dataset, start_index, end_index, history_size, target_size):\n",
    "    data = []  # 存放特征值\n",
    "    labels = []  # 存放目标值\n",
    "    \n",
    "    # 初始的取值片段[0:history_size]\n",
    "    start_index = start_index + history_size\n",
    " \n",
    "    # 如果不指定特征值终止索引，就取到最后一个分区前\n",
    "    if end_index is None:\n",
    "        end_index = len(dataset) - target_size\n",
    "    \n",
    "    # 遍历整个电力数据，取出特征及其对应的预测目标\n",
    "    for i in range(start_index, end_index):\n",
    "        indices = range(i - history_size, i) # 窗口内的所有元素的索引\n",
    "        # 保存特征值和标签值\n",
    "        data.append(np.reshape(dataset[indices], (history_size, 1)))\n",
    "        labels.append(dataset[i+target_size]) # 预测未来几个片段的天气数据\n",
    "    # 返回数据集\n",
    "    return np.array(data), np.array(labels)"
   ]
  },
  {
   "cell_type": "code",
   "execution_count": 5,
   "id": "3188b754",
   "metadata": {},
   "outputs": [
    {
     "name": "stdout",
     "output_type": "stream",
     "text": [
      "x_train.shape: (109125, 20, 1)\n"
     ]
    }
   ],
   "source": [
    "# 取前90%个数据作为训练集\n",
    "train_num = int(len(data) * 0.90)\n",
    "# 90%-99.8%用于验证\n",
    "val_num = int(len(data) * 0.998)\n",
    "# 最后1%用于测试\n",
    "\n",
    "#（4）对训练集预处理\n",
    "temp_mean = temp[:train_num].mean()  # 均值\n",
    "temp_std = temp[:train_num].std()  # 标准差\n",
    "# 标准化\n",
    "inputs_feature = (temp - temp_mean) / temp_std\n",
    " \n",
    "#（5）划分训练集和验证集\n",
    "# 窗口为20条数据，预测下一时刻气温\n",
    "history_size = 20\n",
    "target_size=0\n",
    " \n",
    "# 训练集\n",
    "x_train, y_train = database(inputs_feature.values, 0, train_num, \n",
    "                            history_size, target_size)\n",
    " \n",
    "# 验证集\n",
    "x_val, y_val = database(inputs_feature.values, train_num, val_num,\n",
    "                          history_size, target_size)\n",
    " \n",
    "# 测试集\n",
    "x_test, y_test = database(inputs_feature.values, val_num, None,\n",
    "                          history_size, target_size)\n",
    " \n",
    "# 查看数据信息\n",
    "print('x_train.shape:', x_train.shape)  # x_train.shape: (109125, 20, 1)"
   ]
  },
  {
   "cell_type": "markdown",
   "id": "f299cb07",
   "metadata": {},
   "source": [
    "### 构造数据集\n",
    "将划分好的numpy类型的训练集和验证集转换为tensor类型，用于网络训练。使用shuffle()函数打乱训练集数据，batch()函数指定每个step训练多少组数据。借助迭代器iter()使用next()函数从数据集中取出一个batch的数据用于验证。"
   ]
  },
  {
   "cell_type": "code",
   "execution_count": 6,
   "id": "8465a78a",
   "metadata": {},
   "outputs": [
    {
     "name": "stdout",
     "output_type": "stream",
     "text": [
      "x_batch.shape: (128, 20, 1) y_batch.shape: (128,)\n",
      "input_shape: (20, 1)\n"
     ]
    }
   ],
   "source": [
    "#（6）构造tf数据集\n",
    "# 训练集\n",
    "train_ds = tf.data.Dataset.from_tensor_slices((x_train, y_train))\n",
    "train_ds = train_ds.shuffle(10000).batch(128)\n",
    "# 验证集\n",
    "val_ds = tf.data.Dataset.from_tensor_slices((x_val, y_val))\n",
    "val_ds = val_ds.batch(128) \n",
    " \n",
    "# 查看数据信息\n",
    "sample = next(iter(train_ds))\n",
    "print('x_batch.shape:', sample[0].shape, 'y_batch.shape:', sample[1].shape)\n",
    "print('input_shape:', sample[0].shape[-2:])\n",
    "# x_batch.shape: (128, 20, 1) y_batch.shape: (128,)\n",
    "# input_shape: (20, 1)"
   ]
  },
  {
   "cell_type": "markdown",
   "id": "625225c5",
   "metadata": {},
   "source": [
    "### 模型构建\n",
    "由于本案例数据量比较少，特征也只有一个，因此不需要使用复杂网络，使用一个LSTM层用于提取特征，一个全连接层用于输出预测结果。"
   ]
  },
  {
   "cell_type": "code",
   "execution_count": 7,
   "id": "d710cbe2",
   "metadata": {
    "scrolled": true
   },
   "outputs": [
    {
     "name": "stdout",
     "output_type": "stream",
     "text": [
      "Model: \"model\"\n",
      "_________________________________________________________________\n",
      " Layer (type)                Output Shape              Param #   \n",
      "=================================================================\n",
      " input_1 (InputLayer)        [(None, 20, 1)]           0         \n",
      "                                                                 \n",
      " lstm (LSTM)                 (None, 8)                 320       \n",
      "                                                                 \n",
      " activation (Activation)     (None, 8)                 0         \n",
      "                                                                 \n",
      " dense (Dense)               (None, 1)                 9         \n",
      "                                                                 \n",
      "=================================================================\n",
      "Total params: 329\n",
      "Trainable params: 329\n",
      "Non-trainable params: 0\n",
      "_________________________________________________________________\n"
     ]
    }
   ],
   "source": [
    "# 构造输入层\n",
    "inputs = keras.Input(shape=sample[0].shape[-2:])\n",
    "# 搭建网络各层\n",
    "x = keras.layers.LSTM(8)(inputs)\n",
    "x = keras.layers.Activation('relu')(x)\n",
    "outputs = keras.layers.Dense(1)(x)  # 输出结果是1个\n",
    "# 构造模型\n",
    "model = keras.Model(inputs, outputs)\n",
    "# 查看模型结构\n",
    "model.summary()"
   ]
  },
  {
   "cell_type": "markdown",
   "id": "663724c2",
   "metadata": {},
   "source": [
    "### 网络训练\n",
    "首先进行模型编译，使用adam优化器设置学习率0.01，使用平均绝对误差作为网络训练时的损失函数，网络迭代20次。回归问题不能设置metrics监控指标为准确率，这一般用于分类问题。"
   ]
  },
  {
   "cell_type": "code",
   "execution_count": 8,
   "id": "e83d3c16",
   "metadata": {
    "scrolled": true
   },
   "outputs": [
    {
     "name": "stdout",
     "output_type": "stream",
     "text": [
      "Epoch 1/20\n",
      "853/853 [==============================] - 7s 6ms/step - loss: 0.3736 - val_loss: 0.1265\n",
      "Epoch 2/20\n",
      "853/853 [==============================] - 5s 6ms/step - loss: 0.1141 - val_loss: 0.0784\n",
      "Epoch 3/20\n",
      "853/853 [==============================] - 5s 6ms/step - loss: 0.0888 - val_loss: 0.0713\n",
      "Epoch 4/20\n",
      "853/853 [==============================] - 5s 6ms/step - loss: 0.0832 - val_loss: 0.0699\n",
      "Epoch 5/20\n",
      "853/853 [==============================] - 5s 6ms/step - loss: 0.0804 - val_loss: 0.0660\n",
      "Epoch 6/20\n",
      "853/853 [==============================] - 5s 6ms/step - loss: 0.0768 - val_loss: 0.0649\n",
      "Epoch 7/20\n",
      "853/853 [==============================] - 5s 6ms/step - loss: 0.0752 - val_loss: 0.0634\n",
      "Epoch 8/20\n",
      "853/853 [==============================] - 5s 6ms/step - loss: 0.0739 - val_loss: 0.0623\n",
      "Epoch 9/20\n",
      "853/853 [==============================] - 5s 6ms/step - loss: 0.0732 - val_loss: 0.0612\n",
      "Epoch 10/20\n",
      "853/853 [==============================] - 5s 6ms/step - loss: 0.0723 - val_loss: 0.0632\n",
      "Epoch 11/20\n",
      "853/853 [==============================] - 5s 6ms/step - loss: 0.0717 - val_loss: 0.0605\n",
      "Epoch 12/20\n",
      "853/853 [==============================] - 5s 6ms/step - loss: 0.0711 - val_loss: 0.0621\n",
      "Epoch 13/20\n",
      "853/853 [==============================] - 5s 6ms/step - loss: 0.0706 - val_loss: 0.0602\n",
      "Epoch 14/20\n",
      "853/853 [==============================] - 5s 6ms/step - loss: 0.0699 - val_loss: 0.0596\n",
      "Epoch 15/20\n",
      "853/853 [==============================] - 5s 6ms/step - loss: 0.0694 - val_loss: 0.0609\n",
      "Epoch 16/20\n",
      "853/853 [==============================] - 5s 6ms/step - loss: 0.0689 - val_loss: 0.0590\n",
      "Epoch 17/20\n",
      "853/853 [==============================] - 5s 6ms/step - loss: 0.0684 - val_loss: 0.0591\n",
      "Epoch 18/20\n",
      "853/853 [==============================] - 5s 6ms/step - loss: 0.0678 - val_loss: 0.0614\n",
      "Epoch 19/20\n",
      "853/853 [==============================] - 5s 6ms/step - loss: 0.0674 - val_loss: 0.0590\n",
      "Epoch 20/20\n",
      "853/853 [==============================] - 5s 6ms/step - loss: 0.0671 - val_loss: 0.0581\n"
     ]
    }
   ],
   "source": [
    "#（8）模型编译\n",
    "opt = keras.optimizers.Adam(learning_rate=0.001)  # 优化器\n",
    " \n",
    "model.compile(optimizer=opt, loss='mae')  # 平均误差损失\n",
    " \n",
    "#（9）模型训练\n",
    "epochs=20\n",
    "history = model.fit(train_ds, epochs=epochs, validation_data=val_ds)"
   ]
  },
  {
   "cell_type": "markdown",
   "id": "9815e70c",
   "metadata": {},
   "source": [
    "### 查看训练信息\n",
    "history变量中保存了训练过程的所有信息，我们绘制训练集损失和验证集损失曲线。"
   ]
  },
  {
   "cell_type": "code",
   "execution_count": 9,
   "id": "43edb733",
   "metadata": {
    "scrolled": true
   },
   "outputs": [
    {
     "data": {
      "image/png": "[encoded data removed]",
      "text/plain": [
       "<Figure size 432x288 with 1 Axes>"
      ]
     },
     "metadata": {
      "needs_background": "light"
     },
     "output_type": "display_data"
    }
   ],
   "source": [
    "#（10）获取训练信息\n",
    "history_dict = history.history  # 获取训练的数据字典\n",
    "train_loss = history_dict['loss']  # 训练集损失\n",
    "val_loss = history_dict['val_loss']  # 验证集损失\n",
    " \n",
    "#（11）绘制训练损失和验证损失\n",
    "plt.figure()\n",
    "plt.plot(range(epochs), train_loss, label='train_loss')  # 训练集损失\n",
    "plt.plot(range(epochs), val_loss, label='val_loss')  # 验证集损失\n",
    "plt.legend()  # 显示标签\n",
    "plt.xlabel('epochs')\n",
    "plt.ylabel('loss')\n",
    "plt.show()"
   ]
  },
  {
   "cell_type": "markdown",
   "id": "f22dd0a4",
   "metadata": {},
   "source": [
    "### 预测\n",
    "对先前划分好的测试集进行预测，model中保存了网络训练好了的权重，使用 predict() 函数预测特征 x_test 分别对应的电量 y_predict，真实值 y_test，绘图展示预测值和真实值的偏离程度。也可以计算预测值和真实值之间的方差或标准差等指标来表明预测的准确性。"
   ]
  },
  {
   "cell_type": "code",
   "execution_count": 10,
   "id": "69a90c05",
   "metadata": {
    "scrolled": false
   },
   "outputs": [
    {
     "name": "stdout",
     "output_type": "stream",
     "text": [
      "7/7 [==============================] - 0s 3ms/step\n"
     ]
    },
    {
     "data": {
      "image/png": "[encoded data removed]",
      "text/plain": [
       "<Figure size 720x360 with 1 Axes>"
      ]
     },
     "metadata": {
      "needs_background": "light"
     },
     "output_type": "display_data"
    }
   ],
   "source": [
    "#（12）预测\n",
    "y_predict = model.predict(x_test)  # 对测试集的特征值进行预测\n",
    " \n",
    "# x_test 等同于经过预处理后的 temp[val_num:-20].values\n",
    "dates = temp[val_num:-20].index  # 获取时间索引\n",
    " \n",
    "#（13）绘制预测结果和真实值对比图\n",
    "fig = plt.figure(figsize=(10,5))\n",
    "# 真实值\n",
    "axes = fig.add_subplot(111)\n",
    "axes.plot(dates, y_test, 'bo', label='actual')\n",
    "# 预测值，红色散点\n",
    "axes.plot(dates, y_predict, 'ro', label='predict')\n",
    "# 设置横坐标刻度\n",
    "axes.set_xticks(dates[::30])\n",
    "axes.set_xticklabels(dates[::30],rotation=45)\n",
    " \n",
    "plt.legend()  # 注释\n",
    "plt.grid()  # 网格\n",
    "plt.show()"
   ]
  }
 ],
 "metadata": {
  "kernelspec": {
   "display_name": "Python 3 (ipykernel)",
   "language": "python",
   "name": "python3"
  },
  "language_info": {
   "codemirror_mode": {
    "name": "ipython",
    "version": 3
   },
   "file_extension": ".py",
   "mimetype": "text/x-python",
   "name": "python",
   "nbconvert_exporter": "python",
   "pygments_lexer": "ipython3",
   "version": "3.9.12"
  }
 },
 "nbformat": 4,
 "nbformat_minor": 5
}
