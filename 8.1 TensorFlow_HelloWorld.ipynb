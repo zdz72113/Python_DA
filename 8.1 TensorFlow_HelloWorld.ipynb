{
 "cells": [
  {
   "cell_type": "markdown",
   "id": "cb6f34fc",
   "metadata": {},
   "source": [
    "参考：https://tensorflow.google.cn/tutorials/quickstart/beginner"
   ]
  },
  {
   "cell_type": "code",
   "execution_count": 6,
   "id": "5f15640e",
   "metadata": {},
   "outputs": [],
   "source": [
    "import tensorflow as tf\n",
    "\n",
    "import numpy as np"
   ]
  },
  {
   "cell_type": "markdown",
   "id": "649fd677",
   "metadata": {},
   "source": [
    "### 加载数据集"
   ]
  },
  {
   "cell_type": "markdown",
   "id": "1d4ae5b8",
   "metadata": {},
   "source": [
    "加载并准备 MNIST 数据集。将样本数据从整数转换为浮点数："
   ]
  },
  {
   "cell_type": "code",
   "execution_count": 7,
   "id": "3d0d83d9",
   "metadata": {},
   "outputs": [],
   "source": [
    "mnist = tf.keras.datasets.mnist\n",
    "\n",
    "(x_train, y_train), (x_test, y_test) = mnist.load_data()\n",
    "x_train, x_test = x_train / 255.0, x_test / 255.0"
   ]
  },
  {
   "cell_type": "markdown",
   "id": "f3d323af",
   "metadata": {},
   "source": [
    "### 构建机器学习模型"
   ]
  },
  {
   "cell_type": "markdown",
   "id": "e00f5abb",
   "metadata": {},
   "source": [
    "通过堆叠层来构建 tf.keras.Sequential 模型"
   ]
  },
  {
   "cell_type": "code",
   "execution_count": 8,
   "id": "d7c98a41",
   "metadata": {},
   "outputs": [],
   "source": [
    "model = tf.keras.models.Sequential([\n",
    "  tf.keras.layers.Flatten(input_shape=(28, 28)),\n",
    "  tf.keras.layers.Dense(128, activation='relu'),\n",
    "  tf.keras.layers.Dropout(0.2),\n",
    "  tf.keras.layers.Dense(10)\n",
    "])"
   ]
  },
  {
   "cell_type": "markdown",
   "id": "9db6d565",
   "metadata": {},
   "source": [
    "对于每个样本，模型都会返回一个包含 logits 或 log-odds 分数的向量，每个类一个。"
   ]
  },
  {
   "cell_type": "code",
   "execution_count": 9,
   "id": "2b89079c",
   "metadata": {},
   "outputs": [
    {
     "data": {
      "text/plain": [
       "array([[ 0.18543927, -0.25567344,  0.6349365 ,  0.26560476, -0.14295079,\n",
       "        -0.9846669 ,  0.7638925 , -0.6912051 ,  0.18511018,  0.7829043 ]],\n",
       "      dtype=float32)"
      ]
     },
     "execution_count": 9,
     "metadata": {},
     "output_type": "execute_result"
    }
   ],
   "source": [
    "predictions = model(x_train[:1]).numpy()\n",
    "predictions"
   ]
  },
  {
   "cell_type": "markdown",
   "id": "f2f58b04",
   "metadata": {},
   "source": [
    "tf.nn.softmax 函数将这些 logits 转换为每个类的概率："
   ]
  },
  {
   "cell_type": "code",
   "execution_count": 10,
   "id": "bee08e77",
   "metadata": {},
   "outputs": [
    {
     "data": {
      "text/plain": [
       "array([[0.0966991 , 0.06220847, 0.15157814, 0.10477022, 0.06963129,\n",
       "        0.03000901, 0.17244136, 0.04024395, 0.09666727, 0.17575115]],\n",
       "      dtype=float32)"
      ]
     },
     "execution_count": 10,
     "metadata": {},
     "output_type": "execute_result"
    }
   ],
   "source": [
    "tf.nn.softmax(predictions).numpy()"
   ]
  },
  {
   "cell_type": "markdown",
   "id": "aa31277a",
   "metadata": {},
   "source": [
    "使用 losses.SparseCategoricalCrossentropy 为训练定义损失函数，它会接受 logits 向量和 True 索引，并为每个样本返回一个标量损失。"
   ]
  },
  {
   "cell_type": "code",
   "execution_count": 11,
   "id": "8ff8f080",
   "metadata": {},
   "outputs": [],
   "source": [
    "loss_fn = tf.keras.losses.SparseCategoricalCrossentropy(from_logits=True)"
   ]
  },
  {
   "cell_type": "markdown",
   "id": "aaf37ea0",
   "metadata": {},
   "source": [
    "此损失等于 true 类的负对数概率：如果模型确定类正确，则损失为零。\n",
    "\n",
    "这个未经训练的模型给出的概率接近随机（每个类为 1/10），因此初始损失应该接近 -tf.math.log(1/10) ~= 2.3。"
   ]
  },
  {
   "cell_type": "code",
   "execution_count": 12,
   "id": "d38d25d4",
   "metadata": {},
   "outputs": [
    {
     "data": {
      "text/plain": [
       "3.5062575"
      ]
     },
     "execution_count": 12,
     "metadata": {},
     "output_type": "execute_result"
    }
   ],
   "source": [
    "loss_fn(y_train[:1], predictions).numpy()"
   ]
  },
  {
   "cell_type": "markdown",
   "id": "0b628210",
   "metadata": {},
   "source": [
    "在开始训练之前，使用 Keras Model.compile 配置和编译模型。将 optimizer 类设置为 adam，将 loss 设置为您之前定义的 loss_fn 函数，并通过将 metrics 参数设置为 accuracy 来指定要为模型评估的指标。"
   ]
  },
  {
   "cell_type": "code",
   "execution_count": 13,
   "id": "3dd6ede1",
   "metadata": {},
   "outputs": [],
   "source": [
    "model.compile(optimizer='adam',\n",
    "              loss=loss_fn,\n",
    "              metrics=['accuracy'])"
   ]
  },
  {
   "cell_type": "markdown",
   "id": "78858840",
   "metadata": {},
   "source": [
    "### 训练并评估模型"
   ]
  },
  {
   "cell_type": "markdown",
   "id": "39df5560",
   "metadata": {},
   "source": [
    "使用 Model.fit 方法调整您的模型参数并最小化损失："
   ]
  },
  {
   "cell_type": "code",
   "execution_count": 14,
   "id": "1cce80fc",
   "metadata": {},
   "outputs": [
    {
     "name": "stdout",
     "output_type": "stream",
     "text": [
      "Epoch 1/5\n",
      "1875/1875 [==============================] - 2s 952us/step - loss: 0.2961 - accuracy: 0.9138\n",
      "Epoch 2/5\n",
      "1875/1875 [==============================] - 2s 988us/step - loss: 0.1443 - accuracy: 0.9569\n",
      "Epoch 3/5\n",
      "1875/1875 [==============================] - 2s 931us/step - loss: 0.1078 - accuracy: 0.9674\n",
      "Epoch 4/5\n",
      "1875/1875 [==============================] - 2s 929us/step - loss: 0.0883 - accuracy: 0.9730\n",
      "Epoch 5/5\n",
      "1875/1875 [==============================] - 2s 959us/step - loss: 0.0756 - accuracy: 0.9758\n"
     ]
    },
    {
     "data": {
      "text/plain": [
       "<keras.callbacks.History at 0x14319ed27f0>"
      ]
     },
     "execution_count": 14,
     "metadata": {},
     "output_type": "execute_result"
    }
   ],
   "source": [
    "model.fit(x_train, y_train, epochs=5)"
   ]
  },
  {
   "cell_type": "markdown",
   "id": "436c5d7a",
   "metadata": {},
   "source": [
    "Model.evaluate 方法通常在 \"Validation-set\" 或 \"Test-set\" 上检查模型性能。"
   ]
  },
  {
   "cell_type": "code",
   "execution_count": 15,
   "id": "c933c635",
   "metadata": {},
   "outputs": [
    {
     "name": "stdout",
     "output_type": "stream",
     "text": [
      "313/313 - 0s - loss: 0.0734 - accuracy: 0.9785 - 355ms/epoch - 1ms/step\n"
     ]
    },
    {
     "data": {
      "text/plain": [
       "[0.07344986498355865, 0.9785000085830688]"
      ]
     },
     "execution_count": 15,
     "metadata": {},
     "output_type": "execute_result"
    }
   ],
   "source": [
    "model.evaluate(x_test,  y_test, verbose=2)"
   ]
  },
  {
   "cell_type": "markdown",
   "id": "bc0b9402",
   "metadata": {},
   "source": [
    "如果您想让模型返回概率，可以封装经过训练的模型，并将 softmax 附加到该模型："
   ]
  },
  {
   "cell_type": "code",
   "execution_count": 16,
   "id": "fd0a544b",
   "metadata": {},
   "outputs": [],
   "source": [
    "probability_model = tf.keras.Sequential([\n",
    "  model,\n",
    "  tf.keras.layers.Softmax()\n",
    "])"
   ]
  },
  {
   "cell_type": "code",
   "execution_count": 17,
   "id": "8bde2282",
   "metadata": {},
   "outputs": [
    {
     "data": {
      "text/plain": [
       "<tf.Tensor: shape=(5, 10), dtype=float32, numpy=\n",
       "array([[9.66496145e-08, 9.57034274e-08, 5.36225434e-06, 8.03409421e-05,\n",
       "        1.34211045e-11, 4.25583693e-07, 1.88169228e-12, 9.99901175e-01,\n",
       "        3.22874058e-07, 1.22024148e-05],\n",
       "       [8.64995631e-09, 4.92811785e-04, 9.99506474e-01, 5.48797914e-07,\n",
       "        1.31486141e-12, 1.18242887e-07, 2.92217628e-08, 1.31661097e-15,\n",
       "        5.22709609e-09, 1.42575101e-11],\n",
       "       [7.47400506e-08, 9.99516129e-01, 6.99105512e-05, 3.46861248e-06,\n",
       "        7.67320162e-05, 1.28332681e-06, 2.58788828e-06, 2.98048544e-04,\n",
       "        3.09597817e-05, 6.82368409e-07],\n",
       "       [9.99746025e-01, 2.86606827e-09, 1.86772493e-04, 4.71734694e-07,\n",
       "        5.09588460e-07, 1.79990038e-05, 3.99675519e-05, 1.18269145e-06,\n",
       "        2.95994198e-07, 6.73111390e-06],\n",
       "       [8.37212326e-07, 2.48262761e-08, 2.03521213e-05, 9.74481935e-08,\n",
       "        9.99674678e-01, 1.73651628e-07, 2.57620741e-06, 2.27040218e-05,\n",
       "        4.41514736e-08, 2.78583670e-04]], dtype=float32)>"
      ]
     },
     "execution_count": 17,
     "metadata": {},
     "output_type": "execute_result"
    }
   ],
   "source": [
    "probability_model(x_test[:5])"
   ]
  }
 ],
 "metadata": {
  "kernelspec": {
   "display_name": "Python 3 (ipykernel)",
   "language": "python",
   "name": "python3"
  },
  "language_info": {
   "codemirror_mode": {
    "name": "ipython",
    "version": 3
   },
   "file_extension": ".py",
   "mimetype": "text/x-python",
   "name": "python",
   "nbconvert_exporter": "python",
   "pygments_lexer": "ipython3",
   "version": "3.9.12"
  }
 },
 "nbformat": 4,
 "nbformat_minor": 5
}
