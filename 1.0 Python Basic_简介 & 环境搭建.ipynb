{
 "cells": [
  {
   "cell_type": "markdown",
   "metadata": {},
   "source": [
    "### 参考\n",
    "\n",
    "- [Python 官方教程](https://docs.python.org/zh-cn/3/tutorial/)\n",
    "- [Python 3 教程](https://www.runoob.com/python3/python3-intro.html)\n",
    "- [Python教程-廖雪峰](https://www.liaoxuefeng.com/wiki/1016959663602400)\n",
    "- [Python虚拟环境之Anaconda&virtualenv](https://blog.csdn.net/hohaizx/article/details/78375238)"
   ]
  },
  {
   "cell_type": "code",
   "execution_count": null,
   "metadata": {},
   "outputs": [],
   "source": []
  }
 ],
 "metadata": {
  "kernelspec": {
   "display_name": "Python 3",
   "language": "python",
   "name": "python3"
  },
  "language_info": {
   "codemirror_mode": {
    "name": "ipython",
    "version": 3
   },
   "file_extension": ".py",
   "mimetype": "text/x-python",
   "name": "python",
   "nbconvert_exporter": "python",
   "pygments_lexer": "ipython3",
   "version": "3.7.6"
  }
 },
 "nbformat": 4,
 "nbformat_minor": 4
}
