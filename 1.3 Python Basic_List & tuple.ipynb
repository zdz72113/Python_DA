{
 "cells": [
  {
   "cell_type": "markdown",
   "metadata": {},
   "source": [
    "## 基础类型 - 列表(List)\n",
    "\n",
    "列表(List)是一种有序的集合，序列中的每个元素都分配一个数字(索引)，可以随时添加和删除其中的元素."
   ]
  },
  {
   "cell_type": "code",
   "execution_count": 2,
   "metadata": {},
   "outputs": [
    {
     "name": "stdout",
     "output_type": "stream",
     "text": [
      "['a', 'b', 'c', 'd']\n"
     ]
    }
   ],
   "source": [
    "list1 = [\"a\", \"b\", \"c\", \"d\"];\n",
    "print(list1)"
   ]
  },
  {
   "cell_type": "markdown",
   "metadata": {},
   "source": [
    "### Agenda\n",
    "\n",
    "- 访问列表中的值\n",
    "- 更新和删除列表元素\n",
    "- 列表操作符\n",
    "- 列表切片\n",
    "- 嵌套列表\n",
    "- 列表函数&方法\n",
    "\n",
    "- **基础类型 - 元组(tuple)**\n",
    "- 元组和列表转换"
   ]
  },
  {
   "cell_type": "markdown",
   "metadata": {},
   "source": [
    "### 访问列表中的值\n",
    "\n",
    "使用下标索引来访问列表中的值，同样你也可以使用方括号的形式截取字符"
   ]
  },
  {
   "cell_type": "code",
   "execution_count": 3,
   "metadata": {},
   "outputs": [
    {
     "name": "stdout",
     "output_type": "stream",
     "text": [
      "b\n",
      "d\n"
     ]
    }
   ],
   "source": [
    "print(list1[1])\n",
    "print(list1[-1])"
   ]
  },
  {
   "cell_type": "markdown",
   "metadata": {},
   "source": [
    "### 更新和删除列表元素"
   ]
  },
  {
   "cell_type": "code",
   "execution_count": 4,
   "metadata": {},
   "outputs": [
    {
     "name": "stdout",
     "output_type": "stream",
     "text": [
      "bb\n",
      "['a', 'c', 'd']\n"
     ]
    }
   ],
   "source": [
    "list1[1] = 'bb'\n",
    "print(list1[1])\n",
    "\n",
    "del list1[1]\n",
    "print(list1)"
   ]
  },
  {
   "cell_type": "markdown",
   "metadata": {},
   "source": [
    "### 列表操作符\n",
    "\n",
    "表达式 | 描述 | 结果\n",
    ":----|:----|:----\n",
    "[1, 2, 3] + [4, 5, 6] | 组合 | [1, 2, 3, 4, 5, 6]\n",
    "['Hi!'] * 4 | 重复 | ['Hi!', 'Hi!', 'Hi!', 'Hi!']\n",
    "3 in [1, 2, 3] | 元素是否存在于列表中 | True\n",
    "for x in [1, 2, 3]: print(x, end=\" \") | 迭代 | 1 2 3"
   ]
  },
  {
   "cell_type": "code",
   "execution_count": 5,
   "metadata": {},
   "outputs": [
    {
     "name": "stdout",
     "output_type": "stream",
     "text": [
      "[1, 2, 3, 4, 5, 6]\n",
      "['Hi!', 'Hi!', 'Hi!', 'Hi!']\n",
      "True\n",
      "1 2 3 "
     ]
    }
   ],
   "source": [
    "print([1, 2, 3] + [4, 5, 6])\n",
    "print(['Hi!'] * 4)\n",
    "print(3 in [1, 2, 3])\n",
    "for x in [1, 2, 3]: print(x, end=\" \")"
   ]
  },
  {
   "cell_type": "markdown",
   "metadata": {},
   "source": [
    "### 列表切片\n",
    "\n",
    "L[0:3]表示，从索引0开始取，直到索引3为止，但不包括索引3。即索引0，1，2"
   ]
  },
  {
   "cell_type": "code",
   "execution_count": 6,
   "metadata": {},
   "outputs": [
    {
     "name": "stdout",
     "output_type": "stream",
     "text": [
      "[1, 2, 3]\n"
     ]
    }
   ],
   "source": [
    "L = [1, 2, 3, 4, 5, 6]\n",
    "print(L[0:3])"
   ]
  },
  {
   "cell_type": "markdown",
   "metadata": {},
   "source": [
    "如果第一个索引是0，还可以省略："
   ]
  },
  {
   "cell_type": "code",
   "execution_count": 7,
   "metadata": {},
   "outputs": [
    {
     "name": "stdout",
     "output_type": "stream",
     "text": [
      "[1, 2, 3]\n"
     ]
    }
   ],
   "source": [
    "print(L[:3])"
   ]
  },
  {
   "cell_type": "markdown",
   "metadata": {},
   "source": [
    "类似的，同样支持倒数切片"
   ]
  },
  {
   "cell_type": "code",
   "execution_count": 8,
   "metadata": {},
   "outputs": [
    {
     "name": "stdout",
     "output_type": "stream",
     "text": [
      "[5]\n",
      "[6]\n"
     ]
    }
   ],
   "source": [
    "print(L[-2:-1])\n",
    "print(L[-1:])"
   ]
  },
  {
   "cell_type": "markdown",
   "metadata": {},
   "source": [
    "[:]就可以原样复制一个list"
   ]
  },
  {
   "cell_type": "code",
   "execution_count": 9,
   "metadata": {},
   "outputs": [
    {
     "name": "stdout",
     "output_type": "stream",
     "text": [
      "[1, 2, 3, 4, 5, 6]\n"
     ]
    }
   ],
   "source": [
    "print(L[:])"
   ]
  },
  {
   "cell_type": "markdown",
   "metadata": {},
   "source": [
    "如果每两个取一个"
   ]
  },
  {
   "cell_type": "code",
   "execution_count": 10,
   "metadata": {},
   "outputs": [
    {
     "name": "stdout",
     "output_type": "stream",
     "text": [
      "[1, 3, 5]\n"
     ]
    }
   ],
   "source": [
    "print(L[::2])"
   ]
  },
  {
   "cell_type": "markdown",
   "metadata": {},
   "source": [
    "### 嵌套列表\n",
    "\n",
    "使用嵌套列表即在列表里创建其它列表"
   ]
  },
  {
   "cell_type": "code",
   "execution_count": 11,
   "metadata": {},
   "outputs": [
    {
     "name": "stdout",
     "output_type": "stream",
     "text": [
      "[['a', 'b', 'c'], [1, 2, 3]]\n"
     ]
    }
   ],
   "source": [
    "a = ['a', 'b', 'c']\n",
    "n = [1, 2, 3]\n",
    "x = [a, n]\n",
    "print(x)"
   ]
  },
  {
   "cell_type": "markdown",
   "metadata": {},
   "source": [
    "### 列表函数&方法\n",
    "\n",
    "函数/方法 | 描述\n",
    ":----|:----\n",
    "len(list) | 列表元素个数\n",
    "max(list) | 返回列表元素最大值\n",
    "min(list) | 返回列表元素最小值\n",
    "list(seq) | 将元组转换为列表\n",
    "list.append(obj) | 在列表末尾添加新的对象\n",
    "list.count(obj) | 统计某个元素在列表中出现的次数\n",
    "list.extend(seq) | 在列表末尾一次性追加另一个序列中的多个值（用新列表扩展原来的列表）\n",
    "list.index(obj) | 从列表中找出某个值第一个匹配项的索引位置\n",
    "list.insert(index, obj) | 将对象插入列表\n",
    "list.pop([index=-1]) | 移除列表中的一个元素（默认最后一个元素），并且返回该元素的值\n",
    "list.remove(obj) | 移除列表中某个值的第一个匹配项\n",
    "list.reverse() | 反向列表中元素\n",
    "list.sort( key=None, reverse=False) | 对原列表进行排序\n",
    "list.clear() | 清空列表\n",
    "list.copy() | 复制列表"
   ]
  },
  {
   "cell_type": "markdown",
   "metadata": {},
   "source": [
    "## 基础类型 - 元组(tuple)\n",
    "\n",
    "Python 的元组与列表类似，不同之处在于元组的元素不能修改。\n",
    "\n",
    "元组使用小括号，列表使用方括号。"
   ]
  },
  {
   "cell_type": "code",
   "execution_count": 12,
   "metadata": {},
   "outputs": [
    {
     "name": "stdout",
     "output_type": "stream",
     "text": [
      "(1, 2, 3, 4, 5)\n"
     ]
    }
   ],
   "source": [
    "tup1 = (1, 2, 3, 4, 5 )\n",
    "print(tup1)"
   ]
  },
  {
   "cell_type": "markdown",
   "metadata": {},
   "source": [
    "定义空的tuple，可以写成()\n",
    "\n",
    "定义只有1个元素的tuple时加一个逗号,，来消除歧义"
   ]
  },
  {
   "cell_type": "code",
   "execution_count": 13,
   "metadata": {},
   "outputs": [
    {
     "name": "stdout",
     "output_type": "stream",
     "text": [
      "()\n",
      "(1,)\n"
     ]
    }
   ],
   "source": [
    "tup2 = ()\n",
    "tup3 = (1,)\n",
    "\n",
    "print(tup2)\n",
    "print(tup3)"
   ]
  },
  {
   "cell_type": "markdown",
   "metadata": {},
   "source": [
    "### 元组和列表转换"
   ]
  },
  {
   "cell_type": "code",
   "execution_count": 14,
   "metadata": {},
   "outputs": [
    {
     "name": "stdout",
     "output_type": "stream",
     "text": [
      "('1', '2', '3')\n"
     ]
    }
   ],
   "source": [
    "list1 = ['1', '2', '3']\n",
    "tup1 = tuple(list1)\n",
    "print(tup1)"
   ]
  },
  {
   "cell_type": "code",
   "execution_count": 15,
   "metadata": {},
   "outputs": [
    {
     "name": "stdout",
     "output_type": "stream",
     "text": [
      "['1', '2', '3']\n"
     ]
    }
   ],
   "source": [
    "tup1 = ('1', '2', '3')\n",
    "list1 = list(tup1)\n",
    "print(list1)"
   ]
  }
 ],
 "metadata": {
  "kernelspec": {
   "display_name": "Python 3",
   "language": "python",
   "name": "python3"
  },
  "language_info": {
   "codemirror_mode": {
    "name": "ipython",
    "version": 3
   },
   "file_extension": ".py",
   "mimetype": "text/x-python",
   "name": "python",
   "nbconvert_exporter": "python",
   "pygments_lexer": "ipython3",
   "version": "3.7.6"
  }
 },
 "nbformat": 4,
 "nbformat_minor": 4
}
