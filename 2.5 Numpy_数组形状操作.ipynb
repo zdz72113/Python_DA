{
 "cells": [
  {
   "cell_type": "markdown",
   "metadata": {},
   "source": [
    "## 数组操作"
   ]
  },
  {
   "cell_type": "markdown",
   "metadata": {},
   "source": [
    "### 修改数组形状\n",
    "\n",
    "函数 | 描述\n",
    ":----|:----\n",
    "reshape | 不改变数据的条件下修改形状\n",
    "ravel | 返回展开数组\n",
    "resize | 修改数组本身"
   ]
  },
  {
   "cell_type": "code",
   "execution_count": 5,
   "metadata": {},
   "outputs": [
    {
     "name": "stdout",
     "output_type": "stream",
     "text": [
      "原始数组：\n",
      "[0 1 2 3 4 5 6 7]\n",
      "\n",
      "\n",
      "修改后的数组：\n",
      "[[0 1]\n",
      " [2 3]\n",
      " [4 5]\n",
      " [6 7]]\n",
      "\n",
      "\n",
      "修改后的数组：\n",
      "[[0 1 2 3]\n",
      " [4 5 6 7]]\n"
     ]
    }
   ],
   "source": [
    "import numpy as np\n",
    " \n",
    "a = np.arange(8)\n",
    "print ('原始数组：')\n",
    "print (a)\n",
    "print ('\\n')\n",
    " \n",
    "b = a.reshape(4,2)\n",
    "print ('修改后的数组1：')\n",
    "print (b)\n",
    "print ('\\n')\n",
    "\n",
    "#如果在 reshape 操作中将 size 指定为-1，则会自动计算其他的 size 大小\n",
    "b = a.reshape(2,-1)\n",
    "print ('修改后的数组2：')\n",
    "print (b)"
   ]
  },
  {
   "cell_type": "code",
   "execution_count": 4,
   "metadata": {},
   "outputs": [
    {
     "name": "stdout",
     "output_type": "stream",
     "text": [
      "原数组：\n",
      "[[0 1 2 3]\n",
      " [4 5 6 7]]\n",
      "\n",
      "\n",
      "调用 ravel 函数之后：\n",
      "[0 1 2 3 4 5 6 7]\n",
      "\n",
      "\n",
      "以 F 风格顺序调用 ravel 函数之后：\n",
      "[0 4 1 5 2 6 3 7]\n",
      "原数组：\n",
      "[[0 1 2 3]\n",
      " [4 5 6 7]]\n",
      "\n",
      "\n"
     ]
    }
   ],
   "source": [
    "import numpy as np\n",
    " \n",
    "a = np.arange(8).reshape(2,4)\n",
    " \n",
    "print ('原数组：')\n",
    "print (a)\n",
    "print ('\\n')\n",
    " \n",
    "print ('调用 ravel 函数之后：')\n",
    "print (a.ravel())\n",
    "print ('\\n')\n",
    " \n",
    "print ('以 FORTRAN 风格顺序调用 ravel 函数之后：')\n",
    "print (a.ravel(order = 'F'))"
   ]
  },
  {
   "cell_type": "code",
   "execution_count": 10,
   "metadata": {},
   "outputs": [
    {
     "name": "stdout",
     "output_type": "stream",
     "text": [
      "原数组：\n",
      "[[0 1 2 3]\n",
      " [4 5 6 7]]\n",
      "\n",
      "\n",
      "调用 resize 函数之后：\n",
      "[[0 1]\n",
      " [2 3]\n",
      " [4 5]\n",
      " [6 7]]\n",
      "\n",
      "\n"
     ]
    }
   ],
   "source": [
    "import numpy as np\n",
    " \n",
    "a = np.arange(8).reshape(2, 4)\n",
    " \n",
    "print ('原数组：')\n",
    "print (a)\n",
    "print ('\\n')\n",
    " \n",
    "\n",
    "a.resize(4, 2)\n",
    "print ('调用 resize 函数之后：')\n",
    "print (a)\n",
    "print ('\\n')"
   ]
  },
  {
   "cell_type": "markdown",
   "metadata": {},
   "source": [
    "### 翻转数组\n",
    "\n",
    "函数 | 描述\n",
    ":----|:----\n",
    "ndarray.T | 对换数组的维度\n",
    "rollaxis | 向后滚动指定的轴\n",
    "swapaxes | 对换数组的两个轴"
   ]
  },
  {
   "cell_type": "code",
   "execution_count": 14,
   "metadata": {},
   "outputs": [
    {
     "name": "stdout",
     "output_type": "stream",
     "text": [
      "原数组：\n",
      "[[ 0  1  2  3]\n",
      " [ 4  5  6  7]\n",
      " [ 8  9 10 11]]\n",
      "(3, 4)\n",
      "\n",
      "\n",
      "转置数组：\n",
      "[[ 0  4  8]\n",
      " [ 1  5  9]\n",
      " [ 2  6 10]\n",
      " [ 3  7 11]]\n",
      "(4, 3)\n"
     ]
    }
   ],
   "source": [
    "import numpy as np\n",
    " \n",
    "a = np.arange(12).reshape(3,4)\n",
    " \n",
    "print ('原数组：')\n",
    "print (a)\n",
    "print (a.shape)\n",
    "print ('\\n')\n",
    " \n",
    "print ('转置数组：')\n",
    "print (a.T)\n",
    "print (a.T.shape)"
   ]
  },
  {
   "cell_type": "code",
   "execution_count": 16,
   "metadata": {
    "scrolled": true
   },
   "outputs": [
    {
     "name": "stdout",
     "output_type": "stream",
     "text": [
      "原数组：\n",
      "[[[ 0  1]\n",
      "  [ 2  3]]\n",
      "\n",
      " [[ 4  5]\n",
      "  [ 6  7]]\n",
      "\n",
      " [[ 8  9]\n",
      "  [10 11]]]\n",
      "\n",
      "\n",
      "调用 swapaxes 函数后的数组：\n",
      "[[[ 0  4  8]\n",
      "  [ 2  6 10]]\n",
      "\n",
      " [[ 1  5  9]\n",
      "  [ 3  7 11]]]\n"
     ]
    }
   ],
   "source": [
    "import numpy as np\n",
    " \n",
    "# 创建了三维的 ndarray\n",
    "a = np.arange(12).reshape(3,2,2)\n",
    " \n",
    "print ('原数组：')\n",
    "print (a)\n",
    "print ('\\n')\n",
    "# 现在交换轴 0（深度方向）到轴 2（宽度方向）\n",
    " \n",
    "print ('调用 swapaxes 函数后的数组：')\n",
    "print (np.swapaxes(a, 2, 0))\n"
   ]
  },
  {
   "cell_type": "markdown",
   "metadata": {},
   "source": [
    "### 修改数组维度\n",
    "\n",
    "函数 | 描述\n",
    ":----|:----\n",
    "broadcast_to | 将数组广播到新形状\n",
    "expand_dims | 扩展数组的形状\n",
    "squeeze | 从数组的形状中删除一维条目\n",
    "\n",
    "* **numpy.broadcast_to**\n",
    "\n",
    "    numpy.broadcast_to 函数将数组广播到新形状。它在原始数组上返回只读视图。 它通常不连续。 如果新形状不符合 NumPy 的广播规则，该函数可能会抛出ValueError。\n",
    "    ```\n",
    "    numpy.broadcast_to(array, shape, subok)\n",
    "    ```\n",
    "    \n",
    "* **numpy.expand_dims**\n",
    "\n",
    "    umpy.expand_dims 函数通过在指定位置插入新的轴来扩展数组形状。\n",
    "    ```\n",
    "    numpy.expand_dims(arr, axis)\n",
    "    ```\n",
    "    \n",
    "* **numpy.squeeze**\n",
    "\n",
    "    numpy.squeeze 函数从给定数组的形状中删除一维的条目。\n",
    "    ```\n",
    "    numpy.squeeze(arr, axis)\n",
    "    ```"
   ]
  },
  {
   "cell_type": "code",
   "execution_count": 15,
   "metadata": {},
   "outputs": [
    {
     "name": "stdout",
     "output_type": "stream",
     "text": [
      "[[1 2 3 4]\n",
      " [1 2 3 4]]\n"
     ]
    }
   ],
   "source": [
    "import numpy as np\n",
    "\n",
    "a = np.array([1, 2, 3, 4])  \n",
    "\n",
    "b = np.broadcast_to(a, (2, 4))\n",
    "\n",
    "print(b)"
   ]
  },
  {
   "cell_type": "code",
   "execution_count": 18,
   "metadata": {},
   "outputs": [
    {
     "name": "stdout",
     "output_type": "stream",
     "text": [
      "[1 2 3 4]\n",
      "[[1 2 3 4]]\n",
      "(1,) (1, 4)\n",
      "1 2\n"
     ]
    }
   ],
   "source": [
    "import numpy as np\n",
    "\n",
    "a = np.array([1, 2, 3, 4]) \n",
    "print(a)\n",
    "\n",
    "y = np.expand_dims(a, 0)\n",
    "print(y)\n",
    "\n",
    "print (x.shape, y.shape)\n",
    "print (x.ndim,y.ndim)"
   ]
  },
  {
   "cell_type": "code",
   "execution_count": 21,
   "metadata": {},
   "outputs": [
    {
     "name": "stdout",
     "output_type": "stream",
     "text": [
      "[[[0 1 2]\n",
      "  [3 4 5]\n",
      "  [6 7 8]]]\n",
      "[[0 1 2]\n",
      " [3 4 5]\n",
      " [6 7 8]]\n"
     ]
    }
   ],
   "source": [
    "import numpy as np\n",
    "\n",
    "a = np.arange(9).reshape(1,3,3)\n",
    "print(a)\n",
    "\n",
    "b = np.squeeze(a)\n",
    "print(b)"
   ]
  },
  {
   "cell_type": "markdown",
   "metadata": {},
   "source": [
    "### 连接数组\n",
    "\n",
    "函数 | 描述\n",
    ":----|:----\n",
    "concatenate | 连接沿现有轴的数组序列\n",
    "stack | 沿着新的轴加入一系列数组\n",
    "hstack | 水平堆叠序列中的数组（列方向）\n",
    "vstack | 竖直堆叠序列中的数组（行方向）\n",
    "\n",
    "* **numpy.concatenate**\n",
    "\n",
    "    numpy.concatenate 函数用于沿指定轴连接相同形状的两个或多个数组。\n",
    "    ```\n",
    "    numpy.concatenate((a1, a2, ...), axis)\n",
    "    ```\n",
    "    \n",
    "* **numpy.stack**\n",
    "\n",
    "    numpy.stack 函数用于沿新轴连接数组序列。\n",
    "    ```\n",
    "    numpy.stack(arrays, axis)"
   ]
  },
  {
   "cell_type": "code",
   "execution_count": 31,
   "metadata": {},
   "outputs": [
    {
     "name": "stdout",
     "output_type": "stream",
     "text": [
      "[[1 2]\n",
      " [3 4]]\n",
      "\n",
      "\n",
      "[[5 6]\n",
      " [7 8]]\n",
      "\n",
      "\n",
      "[[1 2]\n",
      " [3 4]\n",
      " [5 6]\n",
      " [7 8]]\n",
      "[[1 2 5 6]\n",
      " [3 4 7 8]]\n"
     ]
    }
   ],
   "source": [
    "import numpy as np\n",
    " \n",
    "a = np.array([[1,2],[3,4]])\n",
    "b = np.array([[5,6],[7,8]])\n",
    " \n",
    "print (a)\n",
    "print ('\\n')\n",
    "print (b)\n",
    "print ('\\n')\n",
    "\n",
    "print (np.concatenate((a,b)))\n",
    "print (np.concatenate((a,b),axis = 1))"
   ]
  },
  {
   "cell_type": "code",
   "execution_count": 32,
   "metadata": {},
   "outputs": [
    {
     "name": "stdout",
     "output_type": "stream",
     "text": [
      "[[1 2]\n",
      " [3 4]]\n",
      "\n",
      "\n",
      "[[5 6]\n",
      " [7 8]]\n",
      "\n",
      "\n",
      "[[[1 2]\n",
      "  [3 4]]\n",
      "\n",
      " [[5 6]\n",
      "  [7 8]]]\n",
      "\n",
      "\n",
      "[[[1 2]\n",
      "  [5 6]]\n",
      "\n",
      " [[3 4]\n",
      "  [7 8]]]\n",
      "\n",
      "\n",
      "[[1 2 5 6]\n",
      " [3 4 7 8]]\n",
      "\n",
      "\n",
      "[[1 2]\n",
      " [3 4]\n",
      " [5 6]\n",
      " [7 8]]\n"
     ]
    }
   ],
   "source": [
    "import numpy as np\n",
    "\n",
    "a = np.array([[1,2],[3,4]])\n",
    "b = np.array([[5,6],[7,8]])\n",
    "\n",
    "print (a)\n",
    "print ('\\n')\n",
    "print (b)\n",
    "print ('\\n')\n",
    "\n",
    "print (np.stack((a,b)))\n",
    "print ('\\n')\n",
    "print (np.stack((a,b), 1))\n",
    "print ('\\n')\n",
    "\n",
    "print (np.hstack((a,b)))\n",
    "print ('\\n')\n",
    "print (np.vstack((a,b)))"
   ]
  },
  {
   "cell_type": "markdown",
   "metadata": {},
   "source": [
    "### 分割数组\n",
    "\n",
    "函数 | 描述\n",
    ":----|:----\n",
    "split | 将一个数组分割为多个子数组\n",
    "hsplit | 将一个数组水平分割为多个子数组（按列）\n",
    "vsplit | 将一个数组垂直分割为多个子数组（按行）\n",
    "\n",
    "* **numpy.split**\n",
    "\n",
    "    numpy.split 函数沿特定的轴将数组分割为子数组。\n",
    "    ```\n",
    "    numpy.split(ary, indices_or_sections, axis)\n",
    "    ```\n",
    "    \n",
    "* **numpy.hsplit**\n",
    "\n",
    "    numpy.hsplit 函数用于水平分割数组，通过指定要返回的相同形状的数组数量来拆分原数组。\n",
    "    \n",
    "    \n",
    "* **numpy.vsplit**\n",
    "\n",
    "    numpy.vsplit 沿着垂直轴分割数组，通过指定要返回的相同形状的数组数量来拆分原数组。"
   ]
  },
  {
   "cell_type": "code",
   "execution_count": 34,
   "metadata": {},
   "outputs": [
    {
     "name": "stdout",
     "output_type": "stream",
     "text": [
      "[0 1 2 3 4 5 6 7 8]\n",
      "\n",
      "\n",
      "[array([0, 1, 2]), array([3, 4, 5]), array([6, 7, 8])]\n",
      "[array([0, 1, 2, 3]), array([4, 5]), array([6]), array([7, 8])]\n"
     ]
    }
   ],
   "source": [
    "import numpy as np\n",
    " \n",
    "a = np.arange(9)\n",
    " \n",
    "print (a)\n",
    "print ('\\n')\n",
    " \n",
    "b = np.split(a,3)\n",
    "print (b)\n",
    "print ('\\n')\n",
    "\n",
    "c = np.split(a,[4,6,7])\n",
    "print (c)"
   ]
  },
  {
   "cell_type": "code",
   "execution_count": 42,
   "metadata": {},
   "outputs": [
    {
     "name": "stdout",
     "output_type": "stream",
     "text": [
      "[[6. 6. 1. 3. 2. 9.]\n",
      " [3. 6. 0. 9. 3. 4.]\n",
      " [6. 0. 4. 2. 4. 9.]\n",
      " [7. 0. 3. 9. 9. 7.]]\n",
      "\n",
      "\n",
      "[array([[6., 6.],\n",
      "       [3., 6.],\n",
      "       [6., 0.],\n",
      "       [7., 0.]]), array([[1., 3.],\n",
      "       [0., 9.],\n",
      "       [4., 2.],\n",
      "       [3., 9.]]), array([[2., 9.],\n",
      "       [3., 4.],\n",
      "       [4., 9.],\n",
      "       [9., 7.]])]\n",
      "\n",
      "\n",
      "[array([[6., 6., 1., 3., 2., 9.],\n",
      "       [3., 6., 0., 9., 3., 4.]]), array([[6., 0., 4., 2., 4., 9.],\n",
      "       [7., 0., 3., 9., 9., 7.]])]\n",
      "\n",
      "\n"
     ]
    }
   ],
   "source": [
    "import numpy as np\n",
    " \n",
    "a = np.floor(10 * np.random.random((4, 6)))\n",
    "print(a)\n",
    "print ('\\n')\n",
    " \n",
    "print(np.hsplit(a, 3))\n",
    "print ('\\n')\n",
    "\n",
    "print(np.vsplit(a, 2))\n",
    "print ('\\n')"
   ]
  },
  {
   "cell_type": "markdown",
   "metadata": {},
   "source": [
    "### 数组元素的添加与删除\n",
    "\n",
    "函数 | 描述\n",
    ":----|:----\n",
    "append | 将值添加到数组末尾\n",
    "insert | 沿指定轴将值插入到指定下标之前\n",
    "delete | 删掉某个轴的子数组，并返回删除后的新数组\n",
    "unique | 去除数组中的重复元素\n",
    "\n",
    "* **numpy.append**\n",
    "\n",
    "    numpy.append 函数在数组的末尾添加值。\n",
    "    ```\n",
    "    numpy.append(arr, values, axis=None)\n",
    "    ```\n",
    "    \n",
    "    > axis：默认为 None。当axis无定义时，是横向加成，返回总是为一维数组。\n",
    "    \n",
    "* **numpy.insert**\n",
    "\n",
    "    numpy.insert 函数在给定索引之前，沿给定轴在输入数组中插入值。\n",
    "    ```\n",
    "    numpy.insert(arr, obj, values, axis)\n",
    "    ```\n",
    "    \n",
    "    > 未传递 Axis 参数。 在插入之前输入数组会被展开。\n",
    "    \n",
    "* **numpy.delete**\n",
    "\n",
    "    numpy.delete 函数返回从输入数组中删除指定子数组的新数组。\n",
    "    ```\n",
    "    numpy.delete(arr, obj, axis)\n",
    "    ```\n",
    "    \n",
    "* **numpy.unique**\n",
    "\n",
    "    numpy.unique 函数用于去除数组中的重复元素。\n",
    "    ```\n",
    "    numpy.unique(arr, return_index, return_inverse, return_counts)\n",
    "    ```"
   ]
  },
  {
   "cell_type": "code",
   "execution_count": 44,
   "metadata": {},
   "outputs": [
    {
     "name": "stdout",
     "output_type": "stream",
     "text": [
      "[[1 2 3]\n",
      " [4 5 6]]\n",
      "\n",
      "\n",
      "[1 2 3 4 5 6 7 8 9]\n",
      "\n",
      "\n",
      "[[1 2 3]\n",
      " [4 5 6]\n",
      " [7 8 9]]\n",
      "\n",
      "\n",
      "[[1 2 3 3 2 1]\n",
      " [4 5 6 6 5 4]]\n"
     ]
    }
   ],
   "source": [
    "import numpy as np\n",
    " \n",
    "a = np.array([[1,2,3],[4,5,6]])\n",
    " \n",
    "print (a)\n",
    "print ('\\n')\n",
    "\n",
    "print (np.append(a, [7,8,9]))\n",
    "print ('\\n')\n",
    " \n",
    "print (np.append(a, [[7,8,9]],axis = 0))\n",
    "print ('\\n')\n",
    " \n",
    "print (np.append(a, [[3,2,1],[6,5,4]],axis = 1))\n"
   ]
  },
  {
   "cell_type": "code",
   "execution_count": 46,
   "metadata": {},
   "outputs": [
    {
     "name": "stdout",
     "output_type": "stream",
     "text": [
      "[[1 2]\n",
      " [3 4]\n",
      " [5 6]]\n",
      "\n",
      "\n",
      "[ 1  2  3 11 12  4  5  6]\n",
      "\n",
      "\n",
      "[[ 1  2]\n",
      " [11 11]\n",
      " [ 3  4]\n",
      " [ 5  6]]\n",
      "\n",
      "\n",
      "[[ 1 11  2]\n",
      " [ 3 11  4]\n",
      " [ 5 11  6]]\n"
     ]
    }
   ],
   "source": [
    "import numpy as np\n",
    " \n",
    "a = np.array([[1,2],[3,4],[5,6]])\n",
    " \n",
    "print (a)\n",
    "print ('\\n')\n",
    "\n",
    "print (np.insert(a,3,[11,12]))\n",
    "print ('\\n')\n",
    " \n",
    "print (np.insert(a,1,11,axis = 0))\n",
    "print ('\\n')\n",
    " \n",
    "print (np.insert(a,1,11,axis = 1))\n"
   ]
  },
  {
   "cell_type": "code",
   "execution_count": 47,
   "metadata": {
    "scrolled": true
   },
   "outputs": [
    {
     "name": "stdout",
     "output_type": "stream",
     "text": [
      "[[1 2]\n",
      " [3 4]\n",
      " [5 6]]\n",
      "\n",
      "\n",
      "[1 2 3 5 6]\n",
      "\n",
      "\n",
      "[[1 2]\n",
      " [5 6]]\n",
      "\n",
      "\n",
      "[[1]\n",
      " [3]\n",
      " [5]]\n"
     ]
    }
   ],
   "source": [
    "import numpy as np\n",
    " \n",
    "a = np.array([[1,2],[3,4],[5,6]])\n",
    " \n",
    "print (a)\n",
    "print ('\\n')\n",
    "\n",
    "print (np.delete(a,3))\n",
    "print ('\\n')\n",
    " \n",
    "print (np.delete(a,1,axis = 0))\n",
    "print ('\\n')\n",
    " \n",
    "print (np.delete(a,1,axis = 1))"
   ]
  },
  {
   "cell_type": "code",
   "execution_count": 51,
   "metadata": {},
   "outputs": [
    {
     "name": "stdout",
     "output_type": "stream",
     "text": [
      "[1 1 2 3 4 5 5 5 6 7]\n",
      "\n",
      "\n",
      "[1 2 3 4 5 6 7]\n",
      "\n",
      "\n",
      "[0 2 3 4 5 8 9]\n",
      "\n",
      "\n",
      "[0 0 1 2 3 4 4 4 5 6]\n",
      "\n",
      "\n",
      "[2 1 1 1 3 1 1]\n",
      "\n",
      "\n"
     ]
    }
   ],
   "source": [
    "import numpy as np\n",
    " \n",
    "a = np.array([1,1,2,3,4,5,5,5,6,7])\n",
    "\n",
    "print (a)\n",
    "print ('\\n')\n",
    "\n",
    "u = np.unique(a)\n",
    "print (u)\n",
    "print ('\\n')\n",
    "\n",
    "u,indices = np.unique(a, return_index = True)\n",
    "print (indices)\n",
    "print ('\\n')\n",
    "\n",
    "u,indices = np.unique(a, return_inverse = True)\n",
    "print (indices)\n",
    "print ('\\n')\n",
    "\n",
    "u,indices = np.unique(a,return_counts = True)\n",
    "print (indices)\n",
    "print ('\\n')"
   ]
  }
 ],
 "metadata": {
  "kernelspec": {
   "display_name": "Python 3",
   "language": "python",
   "name": "python3"
  },
  "language_info": {
   "codemirror_mode": {
    "name": "ipython",
    "version": 3
   },
   "file_extension": ".py",
   "mimetype": "text/x-python",
   "name": "python",
   "nbconvert_exporter": "python",
   "pygments_lexer": "ipython3",
   "version": "3.7.6"
  }
 },
 "nbformat": 4,
 "nbformat_minor": 4
}
