{
 "cells": [
  {
   "cell_type": "markdown",
   "metadata": {},
   "source": [
    "## 数组创建"
   ]
  },
  {
   "cell_type": "markdown",
   "metadata": {},
   "source": [
    "### 从常规Python列表或元组中创建数组\n",
    "\n",
    "使用numpy.array函数\n",
    "\n",
    "```\n",
    "numpy.array(object, dtype = None, copy = True, order = None, subok = False, ndmin = 0)\n",
    "```\n",
    "\n",
    "参数名称 | 描述\n",
    ":----|:----\n",
    "object | 数组或嵌套的数列\n",
    "dtype | 数组元素的数据类型，可选\n",
    "copy | 对象是否需要复制，可选\n",
    "order | 创建数组的样式，C为行方向，F为列方向，A为任意方向（默认）\n",
    "subok | 默认返回一个与基类类型一致的数组\n",
    "ndmin | 指定生成数组的最小维度"
   ]
  },
  {
   "cell_type": "code",
   "execution_count": 7,
   "metadata": {},
   "outputs": [
    {
     "name": "stdout",
     "output_type": "stream",
     "text": [
      "[[1 2]\n",
      " [3 4]]\n"
     ]
    }
   ],
   "source": [
    "import numpy as np\n",
    "\n",
    "a = np.array([[1, 2], [3, 4]])\n",
    "print(a)"
   ]
  },
  {
   "cell_type": "markdown",
   "metadata": {},
   "source": [
    "### 从数值范围创建数组。\n",
    "\n",
    "#### numpy.arange\n",
    "```\n",
    "numpy.arange(start, stop, step, dtype)\n",
    "```\n",
    "\n",
    "参数名称 | 描述\n",
    ":----|:----\n",
    "start | 起始值，默认为0\n",
    "stop | 终止值（不包含）\n",
    "step | 步长，默认为1\n",
    "dtype | 返回ndarray的数据类型，如果没有提供，则会使用输入数据的类型。\n",
    "\n",
    "#### numpy.linspace\n",
    "\n",
    "numpy.linspace 函数用于创建一个一维数组，数组是一个等差数列构成\n",
    "\n",
    "```\n",
    "np.linspace(start, stop, num=50, endpoint=True, retstep=False, dtype=None)\n",
    "```\n",
    "\n",
    "参数名称 | 描述\n",
    ":----|:----\n",
    "start | 序列的起始值\n",
    "stop | 序列的终止值，如果endpoint为true，该值包含于数列中\n",
    "num | 要生成的等步长的样本数量，默认为50\n",
    "endpoint | 该值为 true 时，数列中中包含stop值，反之不包含，默认是True。\n",
    "retstep | 如果为 True 时，生成的数组中会显示间距，反之不显示。\n",
    "dtype | ndarray 的数据类型\n",
    "\n",
    "#### numpy.logspace\n",
    "\n",
    "numpy.logspace 函数用于创建一个于等比数列。\n",
    "\n",
    "```\n",
    "np.logspace(start, stop, num=50, endpoint=True, base=10.0, dtype=None)\n",
    "```\n",
    "\n",
    "参数名称 | 描述\n",
    ":----|:----\n",
    "start | 序列的起始值为：base ** start\n",
    "stop | 序列的终止值为：base ** stop。如果endpoint为true，该值包含于数列中\n",
    "num | 要生成的等步长的样本数量，默认为50\n",
    "endpoint | 该值为 true 时，数列中中包含stop值，反之不包含，默认是True。\n",
    "base | 对数 log 的底数。\n",
    "dtype | ndarray 的数据类型"
   ]
  },
  {
   "cell_type": "code",
   "execution_count": 8,
   "metadata": {},
   "outputs": [
    {
     "name": "stdout",
     "output_type": "stream",
     "text": [
      "[10 12 14 16 18]\n"
     ]
    }
   ],
   "source": [
    "import numpy as np\n",
    "x = np.arange(10, 20, 2)  \n",
    "print (x)\n"
   ]
  },
  {
   "cell_type": "code",
   "execution_count": 9,
   "metadata": {},
   "outputs": [
    {
     "name": "stdout",
     "output_type": "stream",
     "text": [
      "[10. 12. 14. 16. 18.]\n"
     ]
    }
   ],
   "source": [
    "import numpy as np\n",
    "x = np.linspace(10, 20, 5, endpoint = False)  \n",
    "print (x)"
   ]
  },
  {
   "cell_type": "code",
   "execution_count": 10,
   "metadata": {
    "scrolled": false
   },
   "outputs": [
    {
     "name": "stdout",
     "output_type": "stream",
     "text": [
      "[   2.    4.    8.   16.   32.   64.  128.  256.  512. 1024.]\n"
     ]
    }
   ],
   "source": [
    "import numpy as np\n",
    "x = np.logspace(1, 10, 10, base = 2)  \n",
    "print (x)"
   ]
  },
  {
   "cell_type": "markdown",
   "metadata": {},
   "source": [
    "### 使用初始占位符函数创建数组\n",
    "\n",
    "#### numpy.empty\n",
    "\n",
    "numpy.empty 方法用来创建一个指定形状（shape）、数据类型（dtype）且未初始化（数组元素为随机值）的数组\n",
    "\n",
    "```\n",
    "numpy.empty(shape, dtype = float, order = 'C')\n",
    "```\n",
    "\n",
    "参数名称 | 描述\n",
    ":----|:----\n",
    "shape | 数组形状\n",
    "dtype | 数据类型，可选\n",
    "order | 有\"C\"和\"F\"两个选项,分别代表，行优先和列优先，在计算机内存中的存储元素的顺序。\n",
    "\n",
    "#### numpy.zeros\n",
    "\n",
    "创建指定大小的数组，数组元素以 0 来填充\n",
    "\n",
    "```\n",
    "numpy.zeros(shape, dtype = float, order = 'C')\n",
    "```\n",
    "\n",
    "参数名称 | 描述\n",
    ":----|:----\n",
    "shape | 数组形状\n",
    "dtype | 数据类型，可选\n",
    "order | 有\"C\"和\"F\"两个选项,分别代表，行优先和列优先，在计算机内存中的存储元素的顺序。\n",
    "\n",
    "\n",
    "#### numpy.ones\n",
    "\n",
    "创建指定形状的数组，数组元素以 1 来填充\n",
    "\n",
    "```\n",
    "numpy.ones(shape, dtype = None, order = 'C')\n",
    "```\n",
    "\n",
    "参数名称 | 描述\n",
    ":----|:----\n",
    "shape | 数组形状\n",
    "dtype | 数据类型，可选\n",
    "order | 有\"C\"和\"F\"两个选项,分别代表，行优先和列优先，在计算机内存中的存储元素的顺序。"
   ]
  },
  {
   "cell_type": "code",
   "execution_count": 7,
   "metadata": {},
   "outputs": [
    {
     "name": "stdout",
     "output_type": "stream",
     "text": [
      "[[250475664       407]\n",
      " [        0         0]\n",
      " [        1   7209065]]\n",
      "--------------------\n",
      "[[0. 0.]\n",
      " [0. 0.]\n",
      " [0. 0.]]\n",
      "--------------------\n",
      "[[1. 1.]\n",
      " [1. 1.]\n",
      " [1. 1.]]\n"
     ]
    }
   ],
   "source": [
    "import numpy as np\n",
    "\n",
    "a = np.empty((3, 2), dtype = int)\n",
    "b = np.zeros((3, 2))\n",
    "c = np.ones((3, 2))\n",
    "\n",
    "print(a)\n",
    "print('-' * 20)\n",
    "print(b)\n",
    "print('-' * 20)\n",
    "print(c)"
   ]
  }
 ],
 "metadata": {
  "kernelspec": {
   "display_name": "Python 3",
   "language": "python",
   "name": "python3"
  },
  "language_info": {
   "codemirror_mode": {
    "name": "ipython",
    "version": 3
   },
   "file_extension": ".py",
   "mimetype": "text/x-python",
   "name": "python",
   "nbconvert_exporter": "python",
   "pygments_lexer": "ipython3",
   "version": "3.7.6"
  }
 },
 "nbformat": 4,
 "nbformat_minor": 4
}
