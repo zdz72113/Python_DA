{
 "cells": [
  {
   "cell_type": "markdown",
   "metadata": {},
   "source": [
    "## 基础类型 - 数字(Number)\n",
    "\n",
    "Python 支持三种不同的数值类型：\n",
    "\n",
    "*   整型(Int) - 通常被称为是整型或整数，是正或负整数，不带小数点。Python3 整型是没有限制大小的，可以当作 Long 类型使用。\n",
    "*   浮点型(float) - 浮点型由整数部分与小数部分组成，浮点型也可以使用科学计数法表示（2.5e2 = 2.5 x 102 = 250）\n",
    "*   复数( (complex)) - 复数由实数部分和虚数部分构成，可以用a + bj,或者complex(a,b)表示， 复数的实部a和虚部b都是浮点型"
   ]
  },
  {
   "cell_type": "markdown",
   "metadata": {},
   "source": [
    "### 数值类型"
   ]
  },
  {
   "cell_type": "code",
   "execution_count": 1,
   "metadata": {},
   "outputs": [
    {
     "name": "stdout",
     "output_type": "stream",
     "text": [
      "10\n",
      "<class 'int'>\n"
     ]
    }
   ],
   "source": [
    "i = 10\n",
    "print(i)\n",
    "print(type(i))"
   ]
  },
  {
   "cell_type": "code",
   "execution_count": 2,
   "metadata": {},
   "outputs": [
    {
     "name": "stdout",
     "output_type": "stream",
     "text": [
      "10.1\n",
      "<class 'float'>\n"
     ]
    }
   ],
   "source": [
    "i = 10.1\n",
    "print(i)\n",
    "print(type(i))"
   ]
  },
  {
   "cell_type": "markdown",
   "metadata": {},
   "source": [
    "### 数值转换"
   ]
  },
  {
   "cell_type": "code",
   "execution_count": 3,
   "metadata": {},
   "outputs": [
    {
     "data": {
      "text/plain": [
       "10"
      ]
     },
     "execution_count": 3,
     "metadata": {},
     "output_type": "execute_result"
    }
   ],
   "source": [
    "int(i)"
   ]
  },
  {
   "cell_type": "code",
   "execution_count": 4,
   "metadata": {},
   "outputs": [
    {
     "data": {
      "text/plain": [
       "10.1"
      ]
     },
     "execution_count": 4,
     "metadata": {},
     "output_type": "execute_result"
    }
   ],
   "source": [
    "float(i)"
   ]
  },
  {
   "cell_type": "markdown",
   "metadata": {},
   "source": [
    "### 数值运算"
   ]
  },
  {
   "cell_type": "code",
   "execution_count": 5,
   "metadata": {
    "scrolled": true
   },
   "outputs": [
    {
     "name": "stdout",
     "output_type": "stream",
     "text": [
      "3\n",
      "8.3\n",
      "15\n",
      "20\n",
      "2.25\n",
      "2\n",
      "1\n",
      "25\n"
     ]
    }
   ],
   "source": [
    "print(1 + 2)\n",
    "print(10.3 - 2)\n",
    "print(3 * 5)\n",
    "print(50 - 5*6)\n",
    "print(9 / 4) # 总是返回一个浮点数\n",
    "print(9 // 4) # 整数除法返回向下取整后的结果\n",
    "print(9 % 4) # 求余数\n",
    "print(5 ** 2)  # 5 的平方"
   ]
  },
  {
   "cell_type": "markdown",
   "metadata": {},
   "source": [
    "### 数学函数\n",
    "\n",
    "*注：以下函数的使用，需先导入 math 包*"
   ]
  },
  {
   "cell_type": "markdown",
   "metadata": {},
   "source": [
    "函数 | 描述\n",
    "----|----\n",
    "abs(x) | 返回数字的整型绝对值，如abs(-10)返回 10\n",
    "ceil(x) | 返回数字的上入整数，如math.ceil(4.1)返回 5\n",
    "exp(x) | 返回 e 的 x 次幂(ex)，如math.exp(1)返回2.718281828459045\n",
    "fabs(x) | 返回数字的浮点数绝对值，如 math.fabs(-10) 返回10.0\n",
    "floor(x) | 返回数字的下舍整数，如 math.floor(4.9) 返回 4\n",
    "log(x) | 如 math.log(math.e) 返回 1.0，math.log(100,10) 返回 2.0\n",
    "log10(x) | 返回以 10 为基数的 x 的对数，如 math.log10(100) 返回 2.0\n",
    "max(x1, x2,...) | 返回给定参数的最大值，参数可以为序列\n",
    "min(x1, x2,...) | 返回给定参数的最小值，参数可以为序列\n",
    "modf(x) | 返回 x 的整数部分与小数部分，两部分的数值符号与 x 相同，整数部分以浮点型表示\n",
    "pow(x, y) | 幂等函数， x**y 运算后的值\n",
    "round(x [,n]) | 返回浮点数 x 的四舍五入值，如给出 n 值，则代表舍入到小数点后的位数\n",
    "sqrt(x) | 返回数字 x 的平方根"
   ]
  },
  {
   "cell_type": "code",
   "execution_count": 6,
   "metadata": {},
   "outputs": [
    {
     "data": {
      "text/plain": [
       "5"
      ]
     },
     "execution_count": 6,
     "metadata": {},
     "output_type": "execute_result"
    }
   ],
   "source": [
    "import math\n",
    "round(4.6)"
   ]
  },
  {
   "cell_type": "markdown",
   "metadata": {},
   "source": [
    "### 随机数函数\n",
    "\n",
    "*注：以下函数的使用，需先导入 random 包*"
   ]
  },
  {
   "cell_type": "markdown",
   "metadata": {},
   "source": [
    "函数 | 描述\n",
    "----|----\n",
    "choice(seq) | 从序列的元素中随机挑选一个元素，比如random.choice(range(10))，从0到9中随机挑选一个整数\n",
    "randrange ([start,] stop [,step]) | 从指定范围内，按指定基数递增的集合中获取一个随机数，基数缺省值为1\n",
    "random() | 随机生成下一个实数，它在[0,1]范围内\n",
    "seed([x]) | 改变随机数生成器的种子seed。如果你不了解其原理，你不必特别去设定seed，Python会帮你选择seed\n",
    "shuffle(lst) | 将序列的所有元素随机排序\n",
    "uniform(x, y) | 随机生成下一个实数，它在[x,y]范围内"
   ]
  },
  {
   "cell_type": "code",
   "execution_count": 7,
   "metadata": {},
   "outputs": [
    {
     "name": "stdout",
     "output_type": "stream",
     "text": [
      "0\n",
      "0.03179383132842817\n"
     ]
    }
   ],
   "source": [
    "import random\n",
    "print(random.choice(range(10)))\n",
    "print(random.random())"
   ]
  },
  {
   "cell_type": "markdown",
   "metadata": {},
   "source": [
    "### 三角函数\n",
    "\n",
    "*注：以下函数的使用，需先导入 math 包*"
   ]
  },
  {
   "cell_type": "markdown",
   "metadata": {},
   "source": [
    "函数 | 描述\n",
    "----|----\n",
    "acos(x) | 返回x的反余弦弧度值。\n",
    "asin(x) | 返回x的反正弦弧度值。\n",
    "atan(x) | 返回x的反正切弧度值。\n",
    "atan2(y, x) | 返回给定的 X 及 Y 坐标值的反正切值。\n",
    "cos(x) | 返回x的弧度的余弦值。\n",
    "hypot(x, y) | 返回欧几里德范数 sqrt(x*x + y*y)。\n",
    "sin(x) | 返回的x弧度的正弦值。\n",
    "tan(x) | 返回x弧度的正切值。\n",
    "degrees(x) | 将弧度转换为角度,如degrees(math.pi/2) ， 返回90.0\n",
    "radians(x) | 将角度转换为弧度"
   ]
  },
  {
   "cell_type": "markdown",
   "metadata": {},
   "source": [
    "### 数值常量"
   ]
  },
  {
   "cell_type": "markdown",
   "metadata": {},
   "source": [
    "常量 | 描述\n",
    "----|----\n",
    "pi | 数学常量 pi（圆周率，一般以π来表示）\n",
    "e | 数学常量 e，e即自然常数（自然常数）。"
   ]
  },
  {
   "cell_type": "code",
   "execution_count": 8,
   "metadata": {},
   "outputs": [
    {
     "name": "stdout",
     "output_type": "stream",
     "text": [
      "3.141592653589793\n",
      "2.718281828459045\n"
     ]
    }
   ],
   "source": [
    "print(math.pi)\n",
    "print(math.e)"
   ]
  },
  {
   "cell_type": "markdown",
   "metadata": {},
   "source": [
    "### 参考\n",
    "\n",
    "- [Python 官方教程](https://docs.python.org/zh-cn/3/tutorial/)\n",
    "- [Python 3 教程](https://www.runoob.com/python3/python3-intro.html)\n",
    "- [Python教程-廖雪峰](https://www.liaoxuefeng.com/wiki/1016959663602400)"
   ]
  }
 ],
 "metadata": {
  "celltoolbar": "Raw Cell Format",
  "kernelspec": {
   "display_name": "Python 3",
   "language": "python",
   "name": "python3"
  },
  "language_info": {
   "codemirror_mode": {
    "name": "ipython",
    "version": 3
   },
   "file_extension": ".py",
   "mimetype": "text/x-python",
   "name": "python",
   "nbconvert_exporter": "python",
   "pygments_lexer": "ipython3",
   "version": "3.7.6"
  }
 },
 "nbformat": 4,
 "nbformat_minor": 4
}
